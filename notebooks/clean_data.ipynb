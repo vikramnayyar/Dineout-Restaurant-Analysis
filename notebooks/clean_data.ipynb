{
 "cells": [
  {
   "cell_type": "code",
   "execution_count": null,
   "metadata": {
    "colab": {
     "base_uri": "https://localhost:8080/"
    },
    "executionInfo": {
     "elapsed": 711,
     "status": "ok",
     "timestamp": 1626417989703,
     "user": {
      "displayName": "VIKRAM NAYYAR",
      "photoUrl": "",
      "userId": "07632075303478599690"
     },
     "user_tz": -330
    },
    "id": "J_NPd22arnp0",
    "outputId": "989069ea-ba1f-49a8-e98b-d4c1d840acba"
   },
   "outputs": [
    {
     "name": "stdout",
     "output_type": "stream",
     "text": [
      "NVIDIA-SMI has failed because it couldn't communicate with the NVIDIA driver. Make sure that the latest NVIDIA driver is installed and running.\n",
      "\n"
     ]
    }
   ],
   "source": [
    "f!nvidia-smi"
   ]
  },
  {
   "cell_type": "markdown",
   "metadata": {
    "id": "dominant-bible"
   },
   "source": [
    "# #1. Reading and Analysing the DataFrame"
   ]
  },
  {
   "cell_type": "code",
   "execution_count": null,
   "metadata": {
    "colab": {
     "base_uri": "https://localhost:8080/"
    },
    "executionInfo": {
     "elapsed": 45,
     "status": "ok",
     "timestamp": 1626417990611,
     "user": {
      "displayName": "VIKRAM NAYYAR",
      "photoUrl": "",
      "userId": "07632075303478599690"
     },
     "user_tz": -330
    },
    "id": "jWjakYRQss-l",
    "outputId": "bc000b6d-d9d6-471d-e882-103a2bf254f1"
   },
   "outputs": [
    {
     "name": "stdout",
     "output_type": "stream",
     "text": [
      "Drive already mounted at /content/gdrive; to attempt to forcibly remount, call drive.mount(\"/content/gdrive\", force_remount=True).\n"
     ]
    }
   ],
   "source": [
    "# Importing dataset\n",
    "from google.colab import drive\n",
    "drive.mount(\"/content/gdrive\")"
   ]
  },
  {
   "cell_type": "code",
   "execution_count": null,
   "metadata": {
    "id": "0R6xppol3Izm"
   },
   "outputs": [],
   "source": [
    "import pandas as pd\n",
    "df = pd.read_csv('/content/gdrive/My Drive/Colab Notebooks/Dineout/0001_all_restnt_details.csv')"
   ]
  },
  {
   "cell_type": "code",
   "execution_count": null,
   "metadata": {
    "colab": {
     "base_uri": "https://localhost:8080/",
     "height": 203
    },
    "executionInfo": {
     "elapsed": 35,
     "status": "ok",
     "timestamp": 1626417990613,
     "user": {
      "displayName": "VIKRAM NAYYAR",
      "photoUrl": "",
      "userId": "07632075303478599690"
     },
     "user_tz": -330
    },
    "id": "ddyEWdNd3dm8",
    "outputId": "648a5c87-ee05-4645-d236-a49b994dcdc5"
   },
   "outputs": [
    {
     "data": {
      "text/html": [
       "<div>\n",
       "<style scoped>\n",
       "    .dataframe tbody tr th:only-of-type {\n",
       "        vertical-align: middle;\n",
       "    }\n",
       "\n",
       "    .dataframe tbody tr th {\n",
       "        vertical-align: top;\n",
       "    }\n",
       "\n",
       "    .dataframe thead th {\n",
       "        text-align: right;\n",
       "    }\n",
       "</style>\n",
       "<table border=\"1\" class=\"dataframe\">\n",
       "  <thead>\n",
       "    <tr style=\"text-align: right;\">\n",
       "      <th></th>\n",
       "      <th>Unnamed: 0</th>\n",
       "      <th>Name</th>\n",
       "      <th>Rating</th>\n",
       "      <th>Location</th>\n",
       "      <th>Cuisine</th>\n",
       "      <th>Votes</th>\n",
       "      <th>Cost</th>\n",
       "    </tr>\n",
       "  </thead>\n",
       "  <tbody>\n",
       "    <tr>\n",
       "      <th>0</th>\n",
       "      <td>0</td>\n",
       "      <td>Local</td>\n",
       "      <td>4.1/52415 votes</td>\n",
       "      <td>Scindia House,Connaught Place, Central Delhi</td>\n",
       "      <td>North Indian,  Finger Food,  Continental</td>\n",
       "      <td>2415 votes</td>\n",
       "      <td>₹ 2000 for two (approx.)</td>\n",
       "    </tr>\n",
       "    <tr>\n",
       "      <th>1</th>\n",
       "      <td>1</td>\n",
       "      <td>The G.T. ROAD</td>\n",
       "      <td>4.3/52363 votes</td>\n",
       "      <td>M-Block,Connaught Place, Central Delhi</td>\n",
       "      <td>North Indian</td>\n",
       "      <td>2363 votes</td>\n",
       "      <td>₹ 1500 for two (approx.)</td>\n",
       "    </tr>\n",
       "    <tr>\n",
       "      <th>2</th>\n",
       "      <td>2</td>\n",
       "      <td>Tamasha</td>\n",
       "      <td>4.2/55016 votes</td>\n",
       "      <td>Connaught Place, Central Delhi</td>\n",
       "      <td>Finger Food,  North Indian,  Italian,  Contine...</td>\n",
       "      <td>5016 votes</td>\n",
       "      <td>₹ 2000 for two (approx.)</td>\n",
       "    </tr>\n",
       "    <tr>\n",
       "      <th>3</th>\n",
       "      <td>3</td>\n",
       "      <td>The Junkyard Cafe</td>\n",
       "      <td>4.2/52821 votes</td>\n",
       "      <td>Connaught Place, Central Delhi</td>\n",
       "      <td>North Indian,  Mediterranean,  Asian,  Italian...</td>\n",
       "      <td>2821 votes</td>\n",
       "      <td>₹ 1800 for two (approx.)</td>\n",
       "    </tr>\n",
       "    <tr>\n",
       "      <th>4</th>\n",
       "      <td>4</td>\n",
       "      <td>Chili's American Grill and Bar</td>\n",
       "      <td>4.4/51094 votes</td>\n",
       "      <td>M-Block,Connaught Place, Central Delhi</td>\n",
       "      <td>Mexican,  American,  Italian</td>\n",
       "      <td>1094 votes</td>\n",
       "      <td>₹ 2000 for two (approx.)</td>\n",
       "    </tr>\n",
       "  </tbody>\n",
       "</table>\n",
       "</div>"
      ],
      "text/plain": [
       "   Unnamed: 0  ...                      Cost\n",
       "0           0  ...  ₹ 2000 for two (approx.)\n",
       "1           1  ...  ₹ 1500 for two (approx.)\n",
       "2           2  ...  ₹ 2000 for two (approx.)\n",
       "3           3  ...  ₹ 1800 for two (approx.)\n",
       "4           4  ...  ₹ 2000 for two (approx.)\n",
       "\n",
       "[5 rows x 7 columns]"
      ]
     },
     "execution_count": 82,
     "metadata": {
      "tags": []
     },
     "output_type": "execute_result"
    }
   ],
   "source": [
    "df.head()"
   ]
  },
  {
   "cell_type": "code",
   "execution_count": null,
   "metadata": {
    "id": "suNiv9fQ3fcK"
   },
   "outputs": [],
   "source": [
    "df = df.drop(['Unnamed: 0'], axis=1)"
   ]
  },
  {
   "cell_type": "markdown",
   "metadata": {
    "id": "ksCfVLzx4uCU"
   },
   "source": [
    "**Observation:** \n",
    "1. 'Cost' column requires cleaning.\n",
    "2. 'Votes' column requires cleaning.\n",
    "3. Location requires splitting into city and locality. \n",
    "4. 'Rating' column requires cleaning."
   ]
  },
  {
   "cell_type": "code",
   "execution_count": null,
   "metadata": {
    "colab": {
     "base_uri": "https://localhost:8080/"
    },
    "executionInfo": {
     "elapsed": 30,
     "status": "ok",
     "timestamp": 1626417990615,
     "user": {
      "displayName": "VIKRAM NAYYAR",
      "photoUrl": "",
      "userId": "07632075303478599690"
     },
     "user_tz": -330
    },
    "id": "referenced-recipe",
    "outputId": "c39fab89-7cfe-4f0a-f502-e3b6fc5bc32a"
   },
   "outputs": [
    {
     "name": "stdout",
     "output_type": "stream",
     "text": [
      "* Size of dataframe: (7533, 6)\n",
      "\n",
      "* Datatype of columns are:\n",
      " Name        object\n",
      "Rating      object\n",
      "Location    object\n",
      "Cuisine     object\n",
      "Votes       object\n",
      "Cost        object\n",
      "dtype: object\n",
      "\n",
      "* Number of NaNs among ratings are: 938\n",
      "\n"
     ]
    }
   ],
   "source": [
    "print('* Size of dataframe: {}\\n'.format(df.shape))\n",
    "print('* Datatype of columns are:\\n {}\\n'.format(df.dtypes))\n",
    "# print('* Count of different product categories:\\n {}\\n'.format(df['product'].value_counts()))\n",
    "print('* Number of NaNs among ratings are: {}\\n'.format(df['Rating'].isnull().sum())) "
   ]
  },
  {
   "cell_type": "markdown",
   "metadata": {
    "id": "3CzbkVGn8umu"
   },
   "source": [
    "# Dropping NaNs"
   ]
  },
  {
   "cell_type": "code",
   "execution_count": null,
   "metadata": {
    "colab": {
     "base_uri": "https://localhost:8080/"
    },
    "executionInfo": {
     "elapsed": 23,
     "status": "ok",
     "timestamp": 1626417990615,
     "user": {
      "displayName": "VIKRAM NAYYAR",
      "photoUrl": "",
      "userId": "07632075303478599690"
     },
     "user_tz": -330
    },
    "id": "AZ-KilwM8p5r",
    "outputId": "19a7fa0f-ebcf-449c-c7c8-71f44e4a9445"
   },
   "outputs": [
    {
     "data": {
      "text/plain": [
       "Name          0\n",
       "Rating      938\n",
       "Location      0\n",
       "Cuisine       0\n",
       "Votes         0\n",
       "Cost          0\n",
       "dtype: int64"
      ]
     },
     "execution_count": 85,
     "metadata": {
      "tags": []
     },
     "output_type": "execute_result"
    }
   ],
   "source": [
    "df.isna().sum()\n",
    "# ecom_ram_clean.isna().sum()"
   ]
  },
  {
   "cell_type": "code",
   "execution_count": null,
   "metadata": {
    "id": "YNmD7cortVsx"
   },
   "outputs": [],
   "source": [
    "df = df.dropna(subset=['Rating'])\n",
    "df.reset_index(drop=True, inplace=True)   # resetting indexes after dropping nans"
   ]
  },
  {
   "cell_type": "code",
   "execution_count": null,
   "metadata": {
    "colab": {
     "base_uri": "https://localhost:8080/"
    },
    "executionInfo": {
     "elapsed": 19,
     "status": "ok",
     "timestamp": 1626417990617,
     "user": {
      "displayName": "VIKRAM NAYYAR",
      "photoUrl": "",
      "userId": "07632075303478599690"
     },
     "user_tz": -330
    },
    "id": "8cZRELfItVqa",
    "outputId": "03079382-7ede-412d-fe36-3f74de95a53f"
   },
   "outputs": [
    {
     "data": {
      "text/plain": [
       "(6595, 6)"
      ]
     },
     "execution_count": 87,
     "metadata": {
      "tags": []
     },
     "output_type": "execute_result"
    }
   ],
   "source": [
    "df.shape"
   ]
  },
  {
   "cell_type": "code",
   "execution_count": null,
   "metadata": {
    "colab": {
     "base_uri": "https://localhost:8080/",
     "height": 35
    },
    "executionInfo": {
     "elapsed": 16,
     "status": "ok",
     "timestamp": 1626417990617,
     "user": {
      "displayName": "VIKRAM NAYYAR",
      "photoUrl": "",
      "userId": "07632075303478599690"
     },
     "user_tz": -330
    },
    "id": "X7pURHB41sbM",
    "outputId": "f6e74774-9c23-4160-c69d-8a07b2f813bb"
   },
   "outputs": [
    {
     "data": {
      "application/vnd.google.colaboratory.intrinsic+json": {
       "type": "string"
      },
      "text/plain": [
       "'4.2'"
      ]
     },
     "execution_count": 88,
     "metadata": {
      "tags": []
     },
     "output_type": "execute_result"
    }
   ],
   "source": [
    "# Del\n",
    "y = df['Rating'][2].split('/', 1)\n",
    "y[0]"
   ]
  },
  {
   "cell_type": "markdown",
   "metadata": {
    "id": "bg9eAKYbwLXI"
   },
   "source": [
    "# #2. Cleaning Dataset"
   ]
  },
  {
   "cell_type": "markdown",
   "metadata": {
    "id": "Kp-2qwA89q5M"
   },
   "source": [
    "## Cleaning Rating Column "
   ]
  },
  {
   "cell_type": "code",
   "execution_count": null,
   "metadata": {
    "id": "3VmsE4q17YxC"
   },
   "outputs": [],
   "source": [
    "df_clean = pd.DataFrame()\n",
    "# df['Rating'] = df['Rating'].astype(str) \n",
    "for index, rating in enumerate(df['Rating']):\n",
    "    x = df['Rating'][index].split('/', 1)  # x is keeping 4.1. Needs correction\n",
    "    df['Rating'][index] = x[0]\n",
    "    # print(x)"
   ]
  },
  {
   "cell_type": "code",
   "execution_count": null,
   "metadata": {
    "colab": {
     "base_uri": "https://localhost:8080/",
     "height": 203
    },
    "executionInfo": {
     "elapsed": 44,
     "status": "ok",
     "timestamp": 1626417991515,
     "user": {
      "displayName": "VIKRAM NAYYAR",
      "photoUrl": "",
      "userId": "07632075303478599690"
     },
     "user_tz": -330
    },
    "id": "xy_PUsCS7vDJ",
    "outputId": "4065b657-a07c-4bf7-f0ed-c28f91c18d2e"
   },
   "outputs": [
    {
     "data": {
      "text/html": [
       "<div>\n",
       "<style scoped>\n",
       "    .dataframe tbody tr th:only-of-type {\n",
       "        vertical-align: middle;\n",
       "    }\n",
       "\n",
       "    .dataframe tbody tr th {\n",
       "        vertical-align: top;\n",
       "    }\n",
       "\n",
       "    .dataframe thead th {\n",
       "        text-align: right;\n",
       "    }\n",
       "</style>\n",
       "<table border=\"1\" class=\"dataframe\">\n",
       "  <thead>\n",
       "    <tr style=\"text-align: right;\">\n",
       "      <th></th>\n",
       "      <th>Name</th>\n",
       "      <th>Rating</th>\n",
       "      <th>Location</th>\n",
       "      <th>Cuisine</th>\n",
       "      <th>Votes</th>\n",
       "      <th>Cost</th>\n",
       "    </tr>\n",
       "  </thead>\n",
       "  <tbody>\n",
       "    <tr>\n",
       "      <th>0</th>\n",
       "      <td>Local</td>\n",
       "      <td>4.1</td>\n",
       "      <td>Scindia House,Connaught Place, Central Delhi</td>\n",
       "      <td>North Indian,  Finger Food,  Continental</td>\n",
       "      <td>2415 votes</td>\n",
       "      <td>₹ 2000 for two (approx.)</td>\n",
       "    </tr>\n",
       "    <tr>\n",
       "      <th>1</th>\n",
       "      <td>The G.T. ROAD</td>\n",
       "      <td>4.3</td>\n",
       "      <td>M-Block,Connaught Place, Central Delhi</td>\n",
       "      <td>North Indian</td>\n",
       "      <td>2363 votes</td>\n",
       "      <td>₹ 1500 for two (approx.)</td>\n",
       "    </tr>\n",
       "    <tr>\n",
       "      <th>2</th>\n",
       "      <td>Tamasha</td>\n",
       "      <td>4.2</td>\n",
       "      <td>Connaught Place, Central Delhi</td>\n",
       "      <td>Finger Food,  North Indian,  Italian,  Contine...</td>\n",
       "      <td>5016 votes</td>\n",
       "      <td>₹ 2000 for two (approx.)</td>\n",
       "    </tr>\n",
       "    <tr>\n",
       "      <th>3</th>\n",
       "      <td>The Junkyard Cafe</td>\n",
       "      <td>4.2</td>\n",
       "      <td>Connaught Place, Central Delhi</td>\n",
       "      <td>North Indian,  Mediterranean,  Asian,  Italian...</td>\n",
       "      <td>2821 votes</td>\n",
       "      <td>₹ 1800 for two (approx.)</td>\n",
       "    </tr>\n",
       "    <tr>\n",
       "      <th>4</th>\n",
       "      <td>Chili's American Grill and Bar</td>\n",
       "      <td>4.4</td>\n",
       "      <td>M-Block,Connaught Place, Central Delhi</td>\n",
       "      <td>Mexican,  American,  Italian</td>\n",
       "      <td>1094 votes</td>\n",
       "      <td>₹ 2000 for two (approx.)</td>\n",
       "    </tr>\n",
       "  </tbody>\n",
       "</table>\n",
       "</div>"
      ],
      "text/plain": [
       "                             Name Rating  ...       Votes                      Cost\n",
       "0                           Local    4.1  ...  2415 votes  ₹ 2000 for two (approx.)\n",
       "1                   The G.T. ROAD    4.3  ...  2363 votes  ₹ 1500 for two (approx.)\n",
       "2                         Tamasha    4.2  ...  5016 votes  ₹ 2000 for two (approx.)\n",
       "3               The Junkyard Cafe    4.2  ...  2821 votes  ₹ 1800 for two (approx.)\n",
       "4  Chili's American Grill and Bar    4.4  ...  1094 votes  ₹ 2000 for two (approx.)\n",
       "\n",
       "[5 rows x 6 columns]"
      ]
     },
     "execution_count": 90,
     "metadata": {
      "tags": []
     },
     "output_type": "execute_result"
    }
   ],
   "source": [
    "df.head()"
   ]
  },
  {
   "cell_type": "markdown",
   "metadata": {
    "id": "fMbrv1lkwtV8"
   },
   "source": [
    "## Adding City using Location Column "
   ]
  },
  {
   "cell_type": "markdown",
   "metadata": {
    "id": "G3RP30DXbq9B"
   },
   "source": [
    "    ### Adding City Column"
   ]
  },
  {
   "cell_type": "code",
   "execution_count": null,
   "metadata": {
    "id": "r7KC8o8O5CCH"
   },
   "outputs": [],
   "source": [
    "city = df['Location'].str.rsplit(' ', n=1, expand = True)\n",
    "df['City'] = city[1]\n",
    "\n",
    "# new = data[\"Name\"].str.split(\" \", n = 1, expand = True) \n",
    "    \n",
    "# # making separate first name column from new data frame \n",
    "# data[\"First Name\"]= new[0]"
   ]
  },
  {
   "cell_type": "code",
   "execution_count": null,
   "metadata": {
    "colab": {
     "base_uri": "https://localhost:8080/",
     "height": 203
    },
    "executionInfo": {
     "elapsed": 36,
     "status": "ok",
     "timestamp": 1626417991516,
     "user": {
      "displayName": "VIKRAM NAYYAR",
      "photoUrl": "",
      "userId": "07632075303478599690"
     },
     "user_tz": -330
    },
    "id": "ye_5TSuIAvTC",
    "outputId": "7c034f3f-0024-49cb-db32-5c8bb4866301"
   },
   "outputs": [
    {
     "data": {
      "text/html": [
       "<div>\n",
       "<style scoped>\n",
       "    .dataframe tbody tr th:only-of-type {\n",
       "        vertical-align: middle;\n",
       "    }\n",
       "\n",
       "    .dataframe tbody tr th {\n",
       "        vertical-align: top;\n",
       "    }\n",
       "\n",
       "    .dataframe thead th {\n",
       "        text-align: right;\n",
       "    }\n",
       "</style>\n",
       "<table border=\"1\" class=\"dataframe\">\n",
       "  <thead>\n",
       "    <tr style=\"text-align: right;\">\n",
       "      <th></th>\n",
       "      <th>Name</th>\n",
       "      <th>Rating</th>\n",
       "      <th>Location</th>\n",
       "      <th>Cuisine</th>\n",
       "      <th>Votes</th>\n",
       "      <th>Cost</th>\n",
       "      <th>City</th>\n",
       "    </tr>\n",
       "  </thead>\n",
       "  <tbody>\n",
       "    <tr>\n",
       "      <th>0</th>\n",
       "      <td>Local</td>\n",
       "      <td>4.1</td>\n",
       "      <td>Scindia House,Connaught Place, Central Delhi</td>\n",
       "      <td>North Indian,  Finger Food,  Continental</td>\n",
       "      <td>2415 votes</td>\n",
       "      <td>₹ 2000 for two (approx.)</td>\n",
       "      <td>Delhi</td>\n",
       "    </tr>\n",
       "    <tr>\n",
       "      <th>1</th>\n",
       "      <td>The G.T. ROAD</td>\n",
       "      <td>4.3</td>\n",
       "      <td>M-Block,Connaught Place, Central Delhi</td>\n",
       "      <td>North Indian</td>\n",
       "      <td>2363 votes</td>\n",
       "      <td>₹ 1500 for two (approx.)</td>\n",
       "      <td>Delhi</td>\n",
       "    </tr>\n",
       "    <tr>\n",
       "      <th>2</th>\n",
       "      <td>Tamasha</td>\n",
       "      <td>4.2</td>\n",
       "      <td>Connaught Place, Central Delhi</td>\n",
       "      <td>Finger Food,  North Indian,  Italian,  Contine...</td>\n",
       "      <td>5016 votes</td>\n",
       "      <td>₹ 2000 for two (approx.)</td>\n",
       "      <td>Delhi</td>\n",
       "    </tr>\n",
       "    <tr>\n",
       "      <th>3</th>\n",
       "      <td>The Junkyard Cafe</td>\n",
       "      <td>4.2</td>\n",
       "      <td>Connaught Place, Central Delhi</td>\n",
       "      <td>North Indian,  Mediterranean,  Asian,  Italian...</td>\n",
       "      <td>2821 votes</td>\n",
       "      <td>₹ 1800 for two (approx.)</td>\n",
       "      <td>Delhi</td>\n",
       "    </tr>\n",
       "    <tr>\n",
       "      <th>4</th>\n",
       "      <td>Chili's American Grill and Bar</td>\n",
       "      <td>4.4</td>\n",
       "      <td>M-Block,Connaught Place, Central Delhi</td>\n",
       "      <td>Mexican,  American,  Italian</td>\n",
       "      <td>1094 votes</td>\n",
       "      <td>₹ 2000 for two (approx.)</td>\n",
       "      <td>Delhi</td>\n",
       "    </tr>\n",
       "  </tbody>\n",
       "</table>\n",
       "</div>"
      ],
      "text/plain": [
       "                             Name Rating  ...                      Cost   City\n",
       "0                           Local    4.1  ...  ₹ 2000 for two (approx.)  Delhi\n",
       "1                   The G.T. ROAD    4.3  ...  ₹ 1500 for two (approx.)  Delhi\n",
       "2                         Tamasha    4.2  ...  ₹ 2000 for two (approx.)  Delhi\n",
       "3               The Junkyard Cafe    4.2  ...  ₹ 1800 for two (approx.)  Delhi\n",
       "4  Chili's American Grill and Bar    4.4  ...  ₹ 2000 for two (approx.)  Delhi\n",
       "\n",
       "[5 rows x 7 columns]"
      ]
     },
     "execution_count": 92,
     "metadata": {
      "tags": []
     },
     "output_type": "execute_result"
    }
   ],
   "source": [
    "df.head()"
   ]
  },
  {
   "cell_type": "code",
   "execution_count": null,
   "metadata": {
    "id": "FU7VAS3uBmmj"
   },
   "outputs": [],
   "source": [
    "# df[['Name', 'Location', 'City', 'Cuisine', 'Rating', 'Votes', 'Cost' ]]\n",
    "# df.head()"
   ]
  },
  {
   "cell_type": "code",
   "execution_count": null,
   "metadata": {
    "colab": {
     "base_uri": "https://localhost:8080/"
    },
    "executionInfo": {
     "elapsed": 31,
     "status": "ok",
     "timestamp": 1626417991517,
     "user": {
      "displayName": "VIKRAM NAYYAR",
      "photoUrl": "",
      "userId": "07632075303478599690"
     },
     "user_tz": -330
    },
    "id": "voQd1r3zDiwP",
    "outputId": "2e04ee41-92ee-4769-a7e0-0f9ec571c739"
   },
   "outputs": [
    {
     "data": {
      "text/plain": [
       "Bangalore       1016\n",
       "Delhi            735\n",
       "Kolkata          585\n",
       "Hyderabad        494\n",
       "Ahmedabad        415\n",
       "Chennai          388\n",
       "Pune             351\n",
       "Jaipur           268\n",
       "Mumbai           216\n",
       "Indore           204\n",
       "Gurgaon          184\n",
       "Chandigarh       151\n",
       "Western          132\n",
       "Noida            106\n",
       "North            106\n",
       "Secunderabad      95\n",
       "Vadodara          91\n",
       "Lucknow           80\n",
       "West              78\n",
       "Agra              75\n",
       "Bandra            74\n",
       "Nagpur            66\n",
       "Surat             64\n",
       "Suburbs           62\n",
       "Ludhiana          62\n",
       "Mohali            61\n",
       "Thane             61\n",
       "East              60\n",
       "Goa               60\n",
       "Ghaziabad         50\n",
       "Udaipur           43\n",
       "Faridabad         40\n",
       "Zirakpur          26\n",
       "Panchkula         26\n",
       "Powai             26\n",
       "Howrah            21\n",
       "Dombivali         15\n",
       "South              3\n",
       "Kochi              2\n",
       "Highway            2\n",
       "Mysore             1\n",
       "Name: City, dtype: int64"
      ]
     },
     "execution_count": 94,
     "metadata": {
      "tags": []
     },
     "output_type": "execute_result"
    }
   ],
   "source": [
    "df['City'].value_counts()"
   ]
  },
  {
   "cell_type": "code",
   "execution_count": null,
   "metadata": {
    "colab": {
     "base_uri": "https://localhost:8080/",
     "height": 203
    },
    "executionInfo": {
     "elapsed": 25,
     "status": "ok",
     "timestamp": 1626417991518,
     "user": {
      "displayName": "VIKRAM NAYYAR",
      "photoUrl": "",
      "userId": "07632075303478599690"
     },
     "user_tz": -330
    },
    "id": "r9SFcoljDi03",
    "outputId": "a8046d25-7d0e-4431-88d4-8eea93228cda"
   },
   "outputs": [
    {
     "data": {
      "text/html": [
       "<div>\n",
       "<style scoped>\n",
       "    .dataframe tbody tr th:only-of-type {\n",
       "        vertical-align: middle;\n",
       "    }\n",
       "\n",
       "    .dataframe tbody tr th {\n",
       "        vertical-align: top;\n",
       "    }\n",
       "\n",
       "    .dataframe thead th {\n",
       "        text-align: right;\n",
       "    }\n",
       "</style>\n",
       "<table border=\"1\" class=\"dataframe\">\n",
       "  <thead>\n",
       "    <tr style=\"text-align: right;\">\n",
       "      <th></th>\n",
       "      <th>Name</th>\n",
       "      <th>Rating</th>\n",
       "      <th>Location</th>\n",
       "      <th>Cuisine</th>\n",
       "      <th>Votes</th>\n",
       "      <th>Cost</th>\n",
       "      <th>City</th>\n",
       "    </tr>\n",
       "  </thead>\n",
       "  <tbody>\n",
       "    <tr>\n",
       "      <th>0</th>\n",
       "      <td>Local</td>\n",
       "      <td>4.1</td>\n",
       "      <td>Scindia House,Connaught Place, Central Delhi</td>\n",
       "      <td>North Indian,  Finger Food,  Continental</td>\n",
       "      <td>2415 votes</td>\n",
       "      <td>₹ 2000 for two (approx.)</td>\n",
       "      <td>Delhi</td>\n",
       "    </tr>\n",
       "    <tr>\n",
       "      <th>1</th>\n",
       "      <td>The G.T. ROAD</td>\n",
       "      <td>4.3</td>\n",
       "      <td>M-Block,Connaught Place, Central Delhi</td>\n",
       "      <td>North Indian</td>\n",
       "      <td>2363 votes</td>\n",
       "      <td>₹ 1500 for two (approx.)</td>\n",
       "      <td>Delhi</td>\n",
       "    </tr>\n",
       "    <tr>\n",
       "      <th>2</th>\n",
       "      <td>Tamasha</td>\n",
       "      <td>4.2</td>\n",
       "      <td>Connaught Place, Central Delhi</td>\n",
       "      <td>Finger Food,  North Indian,  Italian,  Contine...</td>\n",
       "      <td>5016 votes</td>\n",
       "      <td>₹ 2000 for two (approx.)</td>\n",
       "      <td>Delhi</td>\n",
       "    </tr>\n",
       "    <tr>\n",
       "      <th>3</th>\n",
       "      <td>The Junkyard Cafe</td>\n",
       "      <td>4.2</td>\n",
       "      <td>Connaught Place, Central Delhi</td>\n",
       "      <td>North Indian,  Mediterranean,  Asian,  Italian...</td>\n",
       "      <td>2821 votes</td>\n",
       "      <td>₹ 1800 for two (approx.)</td>\n",
       "      <td>Delhi</td>\n",
       "    </tr>\n",
       "    <tr>\n",
       "      <th>4</th>\n",
       "      <td>Chili's American Grill and Bar</td>\n",
       "      <td>4.4</td>\n",
       "      <td>M-Block,Connaught Place, Central Delhi</td>\n",
       "      <td>Mexican,  American,  Italian</td>\n",
       "      <td>1094 votes</td>\n",
       "      <td>₹ 2000 for two (approx.)</td>\n",
       "      <td>Delhi</td>\n",
       "    </tr>\n",
       "  </tbody>\n",
       "</table>\n",
       "</div>"
      ],
      "text/plain": [
       "                             Name Rating  ...                      Cost   City\n",
       "0                           Local    4.1  ...  ₹ 2000 for two (approx.)  Delhi\n",
       "1                   The G.T. ROAD    4.3  ...  ₹ 1500 for two (approx.)  Delhi\n",
       "2                         Tamasha    4.2  ...  ₹ 2000 for two (approx.)  Delhi\n",
       "3               The Junkyard Cafe    4.2  ...  ₹ 1800 for two (approx.)  Delhi\n",
       "4  Chili's American Grill and Bar    4.4  ...  ₹ 2000 for two (approx.)  Delhi\n",
       "\n",
       "[5 rows x 7 columns]"
      ]
     },
     "execution_count": 95,
     "metadata": {
      "tags": []
     },
     "output_type": "execute_result"
    }
   ],
   "source": [
    "df.head()"
   ]
  },
  {
   "cell_type": "markdown",
   "metadata": {
    "id": "PFaDu4FRXzXg"
   },
   "source": [
    "### Finding Cities Corersponding to Unknown Values "
   ]
  },
  {
   "cell_type": "markdown",
   "metadata": {
    "id": "5RNQ0tE3PjiP"
   },
   "source": [
    "#### Looking for city corresponding to 'North'"
   ]
  },
  {
   "cell_type": "code",
   "execution_count": null,
   "metadata": {
    "colab": {
     "base_uri": "https://localhost:8080/"
    },
    "executionInfo": {
     "elapsed": 23,
     "status": "ok",
     "timestamp": 1626417991518,
     "user": {
      "displayName": "VIKRAM NAYYAR",
      "photoUrl": "",
      "userId": "07632075303478599690"
     },
     "user_tz": -330
    },
    "id": "G-b2T-XZDit3",
    "outputId": "b29fd492-fd24-465f-a94d-e4f1004d892f"
   },
   "outputs": [
    {
     "name": "stdout",
     "output_type": "stream",
     "text": [
      "Bangur Avenue, 24 Parganas North\n",
      "Bangur Avenue, 24 Parganas North\n",
      "Bangur Avenue, 24 Parganas North\n",
      "Bangur Avenue, 24 Parganas North\n",
      "Diamond Plaza Mall,Jessore Road, 24 Parganas North\n",
      "Bangur Avenue, 24 Parganas North\n",
      "Dumdum, 24 Parganas North\n",
      "Dumdum, 24 Parganas North\n",
      "Jessore Road, 24 Parganas North\n",
      "Diamond Plaza Mall,Jessore Road, 24 Parganas North\n",
      "Dumdum, 24 Parganas North\n",
      "Diamond Plaza Mall,Jessore Road, 24 Parganas North\n",
      "Diamond Plaza Mall,Jessore Road, 24 Parganas North\n",
      "Dumdum, 24 Parganas North\n",
      "Kestopur, 24 Parganas North\n",
      "Jessore Road, 24 Parganas North\n",
      "Dumdum, 24 Parganas North\n",
      "Baguiati, 24 Parganas North\n",
      "Nagerbazar, 24 Parganas North\n",
      "Baranagar, 24 Parganas North\n",
      "Kestopur, 24 Parganas North\n",
      "Baguiati, 24 Parganas North\n",
      "Baguiati, 24 Parganas North\n",
      "Meena Tower,Rajarhat, 24 Parganas North\n",
      "Atithi Inn,Baguiati, 24 Parganas North\n",
      "The Meridian Building,Baguiati, 24 Parganas North\n",
      "Tarun Alo Apartment,Rajarhat, 24 Parganas North\n",
      "Rajarhat, 24 Parganas North\n",
      "Teghoria, 24 Parganas North\n",
      "City Centre 2, New Town,Rajarhat, 24 Parganas North\n",
      "Baguiati, 24 Parganas North\n",
      "O2 VIP Hotel,Kaikhali, 24 Parganas North\n",
      "Rajarhat, 24 Parganas North\n",
      "Novotel Kolkata Hotel and Residencies,New Town, 24 Parganas North\n",
      "City Centre 2, New Town,Rajarhat, 24 Parganas North\n",
      "Rajarhat, 24 Parganas North\n",
      "DLF Galleria,New Town, 24 Parganas North\n",
      "DLF Galleria,New Town, 24 Parganas North\n",
      "PS Magnum,Kaikhali, 24 Parganas North\n",
      "New Town, 24 Parganas North\n",
      "Meena Tower,Rajarhat, 24 Parganas North\n",
      "Dumdum, 24 Parganas North\n",
      "City Centre 2, New Town,Rajarhat, 24 Parganas North\n",
      "Baranagar, 24 Parganas North\n",
      "Baguiati, 24 Parganas North\n",
      "Holiday Inn Kolkata Airport,Rajarhat, 24 Parganas North\n",
      "Howard Johnson Hotel,Rajarhat, 24 Parganas North\n",
      "DLF Galleria,New Town, 24 Parganas North\n",
      "Pipal Tree Hotel,New Town, 24 Parganas North\n",
      "Baranagar, 24 Parganas North\n",
      "Rajarhat, 24 Parganas North\n",
      "Rajarhat, 24 Parganas North\n",
      "Axis Mall,Rajarhat, 24 Parganas North\n",
      "Holiday Inn Kolkata Airport,Rajarhat, 24 Parganas North\n",
      "City Centre 2, New Town,Rajarhat, 24 Parganas North\n",
      "Baranagar, 24 Parganas North\n",
      "New Town, 24 Parganas North\n",
      "City Centre 2, New Town,Rajarhat, 24 Parganas North\n",
      "Holiday Inn Kolkata Airport,Rajarhat, 24 Parganas North\n",
      "Rajarhat, 24 Parganas North\n",
      "Fairfield by Marriott,New Town, 24 Parganas North\n",
      "City Centre 2, New Town,Rajarhat, 24 Parganas North\n",
      "City Centre 2, New Town,Rajarhat, 24 Parganas North\n",
      "Dumdum, 24 Parganas North\n",
      "Belgharia, 24 Parganas North\n",
      "Rajarhat, 24 Parganas North\n",
      "Ecosuite Business Tower,Rajarhat, 24 Parganas North\n",
      "The Westin Kolkata Rajarhat,New Town, 24 Parganas North\n",
      "Fairfield by Marriott,New Town, 24 Parganas North\n",
      "Belgharia, 24 Parganas North\n",
      "Kaikhali, 24 Parganas North\n",
      "New Town, 24 Parganas North\n",
      "Zone by The Park,New Town, 24 Parganas North\n",
      "New Town, 24 Parganas North\n",
      "The Westin Kolkata Rajarhat,New Town, 24 Parganas North\n",
      "New Town, 24 Parganas North\n",
      "Dumdum, 24 Parganas North\n",
      "New Town, 24 Parganas North\n",
      "Belgharia, 24 Parganas North\n",
      "Novotel Kolkata Hotel and Residencies,New Town, 24 Parganas North\n",
      "Pecon Tower,Rajarhat, 24 Parganas North\n",
      "Pecon Tower,Rajarhat, 24 Parganas North\n",
      "Club Eco Vista,Rajarhat, 24 Parganas North\n",
      "Belgharia, 24 Parganas North\n",
      "Rajarhat, 24 Parganas North\n",
      "New Town, 24 Parganas North\n",
      "Club Eco Vista,Rajarhat, 24 Parganas North\n",
      "New Town, 24 Parganas North\n",
      "Rosedale Plaza,New Town, 24 Parganas North\n",
      "Ecospace Business Tower,Rajarhat, 24 Parganas North\n",
      "Uniworld Downtown Mall,New Town, 24 Parganas North\n",
      "Sodepur, 24 Parganas North\n",
      "Uniworld Downtown Mall,New Town, 24 Parganas North\n",
      "Sodepur, 24 Parganas North\n",
      "New Town, 24 Parganas North\n",
      "Sodepur, 24 Parganas North\n",
      "Sodepur, 24 Parganas North\n",
      "Madhyamgram, 24 Parganas North\n",
      "Star Mall,Madhyamgram, 24 Parganas North\n",
      "Barasat, 24 Parganas North\n",
      "Barasat, 24 Parganas North\n",
      "Barrackpore, 24 Parganas North\n",
      "Barrackpore, 24 Parganas North\n",
      "Barrackpore, 24 Parganas North\n",
      "Barrackpore, 24 Parganas North\n",
      "Shyamnagar, 24 Parganas North\n"
     ]
    }
   ],
   "source": [
    "for index, restnt in enumerate(df['City']):\n",
    "  if df['City'][index] == 'North':\n",
    "    print(df['Location'][index])"
   ]
  },
  {
   "cell_type": "markdown",
   "metadata": {
    "id": "HyE1fZVRPLmZ"
   },
   "source": [
    "Parganas is in Kolkata"
   ]
  },
  {
   "cell_type": "markdown",
   "metadata": {
    "id": "aID0eXhSP5qb"
   },
   "source": [
    "#### Looking for city correspoding to 'Western'"
   ]
  },
  {
   "cell_type": "code",
   "execution_count": null,
   "metadata": {
    "colab": {
     "base_uri": "https://localhost:8080/"
    },
    "executionInfo": {
     "elapsed": 20,
     "status": "ok",
     "timestamp": 1626417991519,
     "user": {
      "displayName": "VIKRAM NAYYAR",
      "photoUrl": "",
      "userId": "07632075303478599690"
     },
     "user_tz": -330
    },
    "id": "mc2-w_MyDipu",
    "outputId": "0816d8e0-a001-4d69-83dc-e73af70b89db"
   },
   "outputs": [
    {
     "name": "stdout",
     "output_type": "stream",
     "text": [
      "Lily Tower,Jogeshwari West, North Western\n",
      "EE Heights,Jogeshwari West, North Western\n",
      "The Fern Hotel,Goregaon East, North Western\n",
      "The Westin Mumbai Garden City Hotel,Goregaon East, North Western\n",
      "Goregaon East, North Western\n",
      "Oberoi Mall,Goregaon East, North Western\n",
      "Malad East, North Western\n",
      "Goregaon West, North Western\n",
      "Oshiwara, North Western\n",
      "Goregaon West, North Western\n",
      "Oshiwara, North Western\n",
      "Oshiwara, North Western\n",
      "Goregaon East, North Western\n",
      "Oshiwara, North Western\n",
      "Oshiwara, North Western\n",
      "Oshiwara, North Western\n",
      "Malad West, North Western\n",
      "Chandiwala Arcade,Goregaon West, North Western\n",
      "Goregaon West, North Western\n",
      "Malad West, North Western\n",
      "Goregaon West, North Western\n",
      "Malad West, North Western\n",
      "Inorbit Mall,Malad West, North Western\n",
      "Inorbit Mall,Malad West, North Western\n",
      "Inorbit Mall,Malad West, North Western\n",
      "HyperCITY Mall,Malad West, North Western\n",
      "Vastu Tower,Goregaon East, North Western\n",
      "Inorbit Mall,Malad West, North Western\n",
      "Malad West, North Western\n",
      "First Avenue,Goregaon West, North Western\n",
      "Parth Business Plaza,Malad West, North Western\n",
      "Inorbit Mall,Malad West, North Western\n",
      "Malad West, North Western\n",
      "Malad West, North Western\n",
      "Nisha Palace,Malad West, North Western\n",
      "Malad West, North Western\n",
      "Raj Infinia,Malad West, North Western\n",
      "Growel's 101 Mall,Kandivali East, North Western\n",
      "Kandivali East, North Western\n",
      "Evershine Millennium Paradise,Kandivali East, North Western\n",
      "Malad West, North Western\n",
      "Kandivali East, North Western\n",
      "Evershine Insat CHS,Kandivali East, North Western\n",
      "Kandivali East, North Western\n",
      "Infiniti Mall,Malad West, North Western\n",
      "Agarwal Centre,Malad West, North Western\n",
      "Jagdamba Commercial Complex,Malad West, North Western\n",
      "Infiniti Mall,Malad West, North Western\n",
      "Vishnu Shivam Mall,Kandivali East, North Western\n",
      "Vishnu Shivam Mall,Kandivali East, North Western\n",
      "Pleasant Park,Malad West, North Western\n",
      "Raj Infinia,Malad West, North Western\n",
      "Malad West, North Western\n",
      "Parth Business Plaza,Malad West, North Western\n",
      "King Palace,Malad West, North Western\n",
      "Gayatri Shivam Apartment,Kandivali East, North Western\n",
      "Kandivali East, North Western\n",
      "Kandivali West, North Western\n",
      "Kandivali West, North Western\n",
      "Vini Elegance,Borivali West, North Western\n",
      "Kandivali West, North Western\n",
      "Raj Arcade,Kandivali West, North Western\n",
      "Kandivali West, North Western\n",
      "Borivali West, North Western\n",
      "Profit Centre,Kandivali West, North Western\n",
      "Panchsheel Heights,Kandivali West, North Western\n",
      "Raj Arcade,Kandivali West, North Western\n",
      "Bhattad Towers,Borivali West, North Western\n",
      "Bhattad Towers,Borivali West, North Western\n",
      "Borivali West, North Western\n",
      "Bhattad Towers,Borivali West, North Western\n",
      "Borivali West, North Western\n",
      "Borivali West, North Western\n",
      "Kandivali West, North Western\n",
      "Aditiya Apartments,Borivali West, North Western\n",
      "Malad West, North Western\n",
      "Borivali West, North Western\n",
      "Bhoomi Enclave,Kandivali West, North Western\n",
      "Borivali West, North Western\n",
      "Borivali West, North Western\n",
      "Borivali West, North Western\n",
      "Borivali West, North Western\n",
      "Borivali West, North Western\n",
      "Club Aquaria,Borivali West, North Western\n",
      "Shree Gayatri Ganesh Apartment,Borivali West, North Western\n",
      "Borivali West, North Western\n",
      "Borivali East, North Western\n",
      "Raj Sebastain Kinny Apartment,Borivali West, North Western\n",
      "Borivali West, North Western\n",
      "Kandivali West, North Western\n",
      "Borivali West, North Western\n",
      "Saffron Building,Borivali West, North Western\n",
      "Borivali West, North Western\n",
      "Kandivali East, North Western\n",
      "Borivali West, North Western\n",
      "Dahisar East, North Western\n",
      "Mira Road East, North Western\n",
      "Gagangri Complex,Dahisar West, North Western\n",
      "Gagangri Complex,Dahisar West, North Western\n",
      "Omkareshwar Building,Dahisar West, North Western\n",
      "Essel World,Borivali West, North Western\n",
      "Mira Road East, North Western\n",
      "Mira Road East, North Western\n",
      "Mira Road East, North Western\n",
      "Blossom Arcade,Mira Road, North Western\n",
      "Mira Road, North Western\n",
      "Poonam Sagar Complex,Mira Road, North Western\n",
      "Mira Road, North Western\n",
      "Mira Road, North Western\n",
      "Beverly Park,Mira Road, North Western\n",
      "Mira Road East, North Western\n",
      "Topiwala Building,Goregaon West, North Western\n",
      "Mira Road, North Western\n",
      "Vasai East, North Western\n",
      "Bhayandar West, North Western\n",
      "Bhayandar West, North Western\n",
      "Vasai West, North Western\n",
      "Vasai West, North Western\n",
      "Vasai West, North Western\n",
      "Solitaire Castle,Vasai West, North Western\n",
      "Vasai West, North Western\n",
      "Vasai West, North Western\n",
      "Dattani Square Mall,Vasai West, North Western\n",
      "Vardan Apartment,Vasai West, North Western\n",
      "Deep Jyot Building,Vasai West, North Western\n",
      "Vasai West, North Western\n",
      "Vasai West, North Western\n",
      "Vasai West, North Western\n",
      "Rudra Shelter International,Vasai East, North Western\n",
      "Nalasopara West, North Western\n",
      "Virar West, North Western\n",
      "Virar West, North Western\n"
     ]
    }
   ],
   "source": [
    "for index, restnt in enumerate(df['City']):\n",
    "  if df['City'][index] == 'Western':\n",
    "    print(df['Location'][index])"
   ]
  },
  {
   "cell_type": "markdown",
   "metadata": {
    "id": "IyqsVqn3RGfb"
   },
   "source": [
    "All these locations correspond to Mumbai"
   ]
  },
  {
   "cell_type": "markdown",
   "metadata": {
    "id": "KH99Hr0KSTOG"
   },
   "source": [
    "#### Looking for city corresponding to 'Highway'"
   ]
  },
  {
   "cell_type": "code",
   "execution_count": null,
   "metadata": {
    "colab": {
     "base_uri": "https://localhost:8080/"
    },
    "executionInfo": {
     "elapsed": 19,
     "status": "ok",
     "timestamp": 1626417991519,
     "user": {
      "displayName": "VIKRAM NAYYAR",
      "photoUrl": "",
      "userId": "07632075303478599690"
     },
     "user_tz": -330
    },
    "id": "4xQT67MnDim2",
    "outputId": "ef0673eb-5790-4415-87e9-42fa636f4721"
   },
   "outputs": [
    {
     "name": "stdout",
     "output_type": "stream",
     "text": [
      "Somanahalli, Mysore Highway\n",
      "Kunigal, Bangalore Mangalore Highway\n"
     ]
    }
   ],
   "source": [
    "for index, restnt in enumerate(df['City']):\n",
    "  if df['City'][index] == 'Highway':\n",
    "    print(df['Location'][index])"
   ]
  },
  {
   "cell_type": "markdown",
   "metadata": {
    "id": "AtDTvpmASgoq"
   },
   "source": [
    "These locations are in Bangalore"
   ]
  },
  {
   "cell_type": "markdown",
   "metadata": {
    "id": "ElKyesGDUXec"
   },
   "source": [
    "#### Looking for city corresponding to 'Highway'"
   ]
  },
  {
   "cell_type": "code",
   "execution_count": null,
   "metadata": {
    "colab": {
     "base_uri": "https://localhost:8080/"
    },
    "executionInfo": {
     "elapsed": 17,
     "status": "ok",
     "timestamp": 1626417991520,
     "user": {
      "displayName": "VIKRAM NAYYAR",
      "photoUrl": "",
      "userId": "07632075303478599690"
     },
     "user_tz": -330
    },
    "id": "KmaNeq5lUXed",
    "outputId": "de55887d-c94e-4642-d755-fc27a965ac6b"
   },
   "outputs": [
    {
     "name": "stdout",
     "output_type": "stream",
     "text": [
      "Somanahalli, Mysore Highway\n",
      "Kunigal, Bangalore Mangalore Highway\n"
     ]
    }
   ],
   "source": [
    "for index, restnt in enumerate(df['City']):\n",
    "  if df['City'][index] == 'Highway':\n",
    "    print(df['Location'][index])"
   ]
  },
  {
   "cell_type": "markdown",
   "metadata": {
    "id": "AOiKNlWIUqov"
   },
   "source": [
    "These locations are in Bangalore"
   ]
  },
  {
   "cell_type": "markdown",
   "metadata": {
    "id": "_ecMp2yOT_Z8"
   },
   "source": [
    "#### Looking for city corresponding to 'West'"
   ]
  },
  {
   "cell_type": "code",
   "execution_count": null,
   "metadata": {
    "colab": {
     "base_uri": "https://localhost:8080/"
    },
    "executionInfo": {
     "elapsed": 16,
     "status": "ok",
     "timestamp": 1626417991520,
     "user": {
      "displayName": "VIKRAM NAYYAR",
      "photoUrl": "",
      "userId": "07632075303478599690"
     },
     "user_tz": -330
    },
    "id": "Zjp0EochT_Z9",
    "outputId": "c314cf93-97ab-4e76-daae-5bcece72ea03"
   },
   "outputs": [
    {
     "name": "stdout",
     "output_type": "stream",
     "text": [
      "Janki Kutir Society,Juhu, Andheri West\n",
      "Vishwakarma Baug,Vile Parle West, Andheri West\n",
      "Vile Parle West, Andheri West\n",
      "Juhu, Andheri West\n",
      "Sarkar Corner,Near Andheri West Station, Andheri West\n",
      "Juhu, Andheri West\n",
      "Near Andheri West Station, Andheri West\n",
      "Veera Desai, Andheri West\n",
      "Juhu, Andheri West\n",
      "Near Andheri West Station, Andheri West\n",
      "Tian Building,Juhu, Andheri West\n",
      "Morya Classic,Veera Desai, Andheri West\n",
      "Versova, Andheri West\n",
      "Juhu, Andheri West\n",
      "Juhu, Andheri West\n",
      "Andheri Lokhandwala, Andheri West\n",
      "Crescent Royale,Near Andheri West Station, Andheri West\n",
      "Andheri Lokhandwala, Andheri West\n",
      "Andheri Link Road , Andheri West\n",
      "Juhu, Andheri West\n",
      "JW Marriott Hotel,Juhu, Andheri West\n",
      "Ashiyana Apartment,Juhu, Andheri West\n",
      "Crescent Royale,Near Andheri West Station, Andheri West\n",
      "Navratan Apartment,Juhu, Andheri West\n",
      "Near Andheri West Station, Andheri West\n",
      "Near Andheri West Station, Andheri West\n",
      "Jaldarshan Building,Juhu, Andheri West\n",
      "DN Nagar, Andheri West\n",
      "Juhu, Andheri West\n",
      "Boolani Estate Owners Premises CHS,Near Andheri West Station, Andheri West\n",
      "Juhu Residency Boutique Hotel,Juhu, Andheri West\n",
      "7 Bungalows, Andheri West\n",
      "Juhu, Andheri West\n",
      "Juhu Residency Boutique Hotel,Juhu, Andheri West\n",
      "JW Marriott Hotel,Juhu, Andheri West\n",
      "Juhu, Andheri West\n",
      "Hotel Kings International,Juhu, Andheri West\n",
      "The Empresa Hotel,Near Andheri West Station, Andheri West\n",
      "Veera Desai, Andheri West\n",
      "Andheri Lokhandwala, Andheri West\n",
      "Near Andheri West Station, Andheri West\n",
      "Near Andheri West Station, Andheri West\n",
      "Svenska Design Hotel,Near Andheri West Station, Andheri West\n",
      "Veera Desai, Andheri West\n",
      "Laxmi Plaza,Near Andheri West Station, Andheri West\n",
      "Ramee Guestline Hotel,Juhu, Andheri West\n",
      "Andheri Lokhandwala, Andheri West\n",
      "Near Andheri West Station, Andheri West\n",
      "Near Andheri West Station, Andheri West\n",
      "Near Andheri West Station, Andheri West\n",
      "Near Andheri West Station, Andheri West\n",
      "Near Andheri West Station, Andheri West\n",
      "Near Andheri West Station, Andheri West\n",
      "Near Andheri West Station, Andheri West\n",
      "Shubham Housing Society,Versova, Andheri West\n",
      "Near Andheri West Station, Andheri West\n",
      "Andheri Lokhandwala, Andheri West\n",
      "Svenska Design Hotel,Near Andheri West Station, Andheri West\n",
      "Near Andheri West Station, Andheri West\n",
      "Versova, Andheri West\n",
      "Near Andheri West Station, Andheri West\n",
      "Andheri Lokhandwala, Andheri West\n",
      "Near Andheri West Station, Andheri West\n",
      "Andheri Lokhandwala, Andheri West\n",
      "Mohit Height Tower,Near Andheri West Station, Andheri West\n",
      "Near Andheri West Station, Andheri West\n",
      "Near Andheri West Station, Andheri West\n",
      "Versova, Andheri West\n",
      "Versova, Andheri West\n",
      "7 Bungalows, Andheri West\n",
      "Adarsh Nagar, Andheri West\n",
      "Near Andheri West Station, Andheri West\n",
      "Near Andheri West Station, Andheri West\n",
      "Mangal Orchid CHS,Near Andheri West Station, Andheri West\n",
      "Near Andheri West Station, Andheri West\n",
      "Near Andheri West Station, Andheri West\n",
      "Versova, Andheri West\n",
      "Versova, Andheri West\n"
     ]
    }
   ],
   "source": [
    "for index, restnt in enumerate(df['City']):\n",
    "  if df['City'][index] == 'West':\n",
    "    print(df['Location'][index])"
   ]
  },
  {
   "cell_type": "markdown",
   "metadata": {
    "id": "LuzVKoEpUo4s"
   },
   "source": [
    "These locations are in Mumbai"
   ]
  },
  {
   "cell_type": "markdown",
   "metadata": {
    "id": "dMmXSGTwU_Q9"
   },
   "source": [
    "#### Looking for city corresponding to 'Suburbs'"
   ]
  },
  {
   "cell_type": "code",
   "execution_count": null,
   "metadata": {
    "colab": {
     "base_uri": "https://localhost:8080/"
    },
    "executionInfo": {
     "elapsed": 16,
     "status": "ok",
     "timestamp": 1626417991521,
     "user": {
      "displayName": "VIKRAM NAYYAR",
      "photoUrl": "",
      "userId": "07632075303478599690"
     },
     "user_tz": -330
    },
    "id": "7sSCWbw9U_RZ",
    "outputId": "2295fdbf-29b0-4681-9454-04585bb945ff"
   },
   "outputs": [
    {
     "name": "stdout",
     "output_type": "stream",
     "text": [
      "Mayfair Sonata Green CHS,Vikhroli West, Central Suburbs\n",
      "Vikhroli West, Central Suburbs\n",
      "R City Mall,Ghatkopar West, Central Suburbs\n",
      "R City Mall,Ghatkopar West, Central Suburbs\n",
      "R City Mall,Ghatkopar West, Central Suburbs\n",
      "R City Mall,Ghatkopar West, Central Suburbs\n",
      "Imagine Studio,Vikhroli East, Central Suburbs\n",
      "Ghatkopar West, Central Suburbs\n",
      "R City Mall,Ghatkopar West, Central Suburbs\n",
      "The Roa Hotel,Ghatkopar West, Central Suburbs\n",
      "R City Mall,Ghatkopar West, Central Suburbs\n",
      "Ghatkopar West, Central Suburbs\n",
      "Vallabh Vihar,Ghatkopar East, Central Suburbs\n",
      "Ghatkopar West, Central Suburbs\n",
      "Eastern Business District,Bhandup West, Central Suburbs\n",
      "Eastern Business District,Bhandup West, Central Suburbs\n",
      "Phoenix Marketcity Mall,Kurla West, Central Suburbs\n",
      "Phoenix Marketcity Mall,Kurla West, Central Suburbs\n",
      "Phoenix Marketcity Mall,Kurla West, Central Suburbs\n",
      "Phoenix Marketcity Mall,Kurla West, Central Suburbs\n",
      "The Destination SRA CHS Ltd,Ghatkopar East, Central Suburbs\n",
      "The Destination SRA CHS Ltd,Ghatkopar East, Central Suburbs\n",
      "Hotel Jewel of Chembur,Chembur, Central Suburbs\n",
      "Hotel Jewel of Chembur,Chembur, Central Suburbs\n",
      "Chembur, Central Suburbs\n",
      "Mulund West, Central Suburbs\n",
      "Mulund West, Central Suburbs\n",
      "Chembur, Central Suburbs\n",
      "Runwal Greens,Mulund West, Central Suburbs\n",
      "Mulund West, Central Suburbs\n",
      "Runwal Greens,Mulund West, Central Suburbs\n",
      "Capsulation Premises,Chembur, Central Suburbs\n",
      "Runwal Greens,Mulund West, Central Suburbs\n",
      "Mulund West, Central Suburbs\n",
      "Mulund West, Central Suburbs\n",
      "Mulund West, Central Suburbs\n",
      "Fair Lawn CHS,Chembur, Central Suburbs\n",
      "Mulund West, Central Suburbs\n",
      "Chembur, Central Suburbs\n",
      "Chhadva Apartment,Chembur, Central Suburbs\n",
      "Chembur, Central Suburbs\n",
      "Chembur, Central Suburbs\n",
      "Chembur, Central Suburbs\n",
      "Minerva Chambers,Mulund West, Central Suburbs\n",
      "Chembur, Central Suburbs\n",
      "Mulund West, Central Suburbs\n",
      "Mulund West, Central Suburbs\n",
      "Avior Building,Mulund West, Central Suburbs\n",
      "Chembur, Central Suburbs\n",
      "Mulund West, Central Suburbs\n",
      "Mulund West, Central Suburbs\n",
      "Mulund West, Central Suburbs\n",
      "Vikas Paradise,Mulund West, Central Suburbs\n",
      "R-Mall,Mulund West, Central Suburbs\n",
      "Willows Tower,Mulund West, Central Suburbs\n",
      "Mulund West, Central Suburbs\n",
      "R-Mall,Mulund West, Central Suburbs\n",
      "R-Mall,Mulund West, Central Suburbs\n",
      "Sion, Central Suburbs\n",
      "Sion, Central Suburbs\n",
      "Sion, Central Suburbs\n",
      "Sion, Central Suburbs\n"
     ]
    }
   ],
   "source": [
    "for index, restnt in enumerate(df['City']):\n",
    "  if df['City'][index] == 'Suburbs':\n",
    "    print(df['Location'][index])"
   ]
  },
  {
   "cell_type": "markdown",
   "metadata": {
    "id": "R_b0ySBdU_RZ"
   },
   "source": [
    "These locations are in Mumbai"
   ]
  },
  {
   "cell_type": "markdown",
   "metadata": {
    "id": "_cQOahFwVrFX"
   },
   "source": [
    "#### Looking for city corresponding to 'East'"
   ]
  },
  {
   "cell_type": "code",
   "execution_count": null,
   "metadata": {
    "colab": {
     "base_uri": "https://localhost:8080/"
    },
    "executionInfo": {
     "elapsed": 16,
     "status": "ok",
     "timestamp": 1626417991521,
     "user": {
      "displayName": "VIKRAM NAYYAR",
      "photoUrl": "",
      "userId": "07632075303478599690"
     },
     "user_tz": -330
    },
    "id": "blHVUrnlVrF2",
    "outputId": "3566dd53-7f22-43f7-8575-60c8c355e23e"
   },
   "outputs": [
    {
     "name": "stdout",
     "output_type": "stream",
     "text": [
      "Times Square Tech Park,Sakinaka, Andheri East\n",
      "Sagar Pallazio Mall,Sakinaka, Andheri East\n",
      "Near Andheri East Station, Andheri East\n",
      "Premier Emperor Building,Marol, Andheri East\n",
      "Sakinaka, Andheri East\n",
      "Sagar Pallazio Mall,Sakinaka, Andheri East\n",
      "The Peninsula Grand Hotel,Sakinaka, Andheri East\n",
      "Sakinaka, Andheri East\n",
      "The Peninsula Grand Hotel,Sakinaka, Andheri East\n",
      "Marol, Andheri East\n",
      "Sakinaka, Andheri East\n",
      "Sakinaka, Andheri East\n",
      "Sakinaka, Andheri East\n",
      "Times Square Tech Park,Sakinaka, Andheri East\n",
      "Sakinaka, Andheri East\n",
      "Marol, Andheri East\n",
      "Marol, Andheri East\n",
      "M.I.D.C, Andheri East\n",
      "Marol, Andheri East\n",
      "Sahar Airport Road, Andheri East\n",
      "Marol, Andheri East\n",
      "Marol, Andheri East\n",
      "Marol, Andheri East\n",
      "Marol, Andheri East\n",
      "Marol, Andheri East\n",
      "Marol, Andheri East\n",
      "Marol, Andheri East\n",
      "Marol, Andheri East\n",
      "Sahar Airport Road, Andheri East\n",
      "Marol, Andheri East\n",
      "M.I.D.C, Andheri East\n",
      "Chakala, Andheri East\n",
      "M.I.D.C, Andheri East\n",
      "M.I.D.C, Andheri East\n",
      "M.I.D.C, Andheri East\n",
      "Near Andheri East Station, Andheri East\n",
      "M.I.D.C, Andheri East\n",
      "Near Andheri East Station, Andheri East\n",
      "Courtyard by Marriott Hotel,Near Andheri East Station, Andheri East\n",
      "M.I.D.C, Andheri East\n",
      "Radisson MIDC,Near Andheri East Station, Andheri East\n",
      "JB Nagar, Andheri East\n",
      "Radisson MIDC,Near Andheri East Station, Andheri East\n",
      "M.I.D.C, Andheri East\n",
      "Chakala, Andheri East\n",
      "Chakala, Andheri East\n",
      "Mahakali, Andheri East\n",
      "Mahakali, Andheri East\n",
      "Hotel Sahara Star,Vile Parle East, Andheri East\n",
      "The Orchid Hotel,Vile Parle East, Andheri East\n",
      "Hotel Sahara Star,Vile Parle East, Andheri East\n",
      "Aureole Hotel,Near Andheri East Station, Andheri East\n",
      "Narayan Niwas,Vile Parle East, Andheri East\n",
      "Koteshwar Palace Building,Near Andheri East Station, Andheri East\n",
      "Mahakali, Andheri East\n",
      "E-Square Building,Vile Parle East, Andheri East\n",
      "Vile Parle East, Andheri East\n",
      "Narayan Niwas,Vile Parle East, Andheri East\n",
      "Maitreya Business Park,Vile Parle East, Andheri East\n",
      "Harileela CHS,Vile Parle East, Andheri East\n"
     ]
    }
   ],
   "source": [
    "for index, restnt in enumerate(df['City']):\n",
    "  if df['City'][index] == 'East':\n",
    "    print(df['Location'][index])"
   ]
  },
  {
   "cell_type": "markdown",
   "metadata": {
    "id": "0eYEmSoLVrF2"
   },
   "source": [
    "These locations are in Mumbai"
   ]
  },
  {
   "cell_type": "markdown",
   "metadata": {
    "id": "iMyGqXgcWWP9"
   },
   "source": [
    "#### Looking for city corresponding to 'South'"
   ]
  },
  {
   "cell_type": "code",
   "execution_count": null,
   "metadata": {
    "colab": {
     "base_uri": "https://localhost:8080/"
    },
    "executionInfo": {
     "elapsed": 702,
     "status": "ok",
     "timestamp": 1626417992208,
     "user": {
      "displayName": "VIKRAM NAYYAR",
      "photoUrl": "",
      "userId": "07632075303478599690"
     },
     "user_tz": -330
    },
    "id": "bzEjYxEzWWQb",
    "outputId": "8e784f1d-6055-414e-b4cd-aa0021e67bae"
   },
   "outputs": [
    {
     "name": "stdout",
     "output_type": "stream",
     "text": [
      "Narendrapur, 24 Parganas South\n",
      "Narendrapur, 24 Parganas South\n",
      "Narendrapur, 24 Parganas South\n"
     ]
    }
   ],
   "source": [
    "for index, restnt in enumerate(df['City']):\n",
    "  if df['City'][index] == 'South':\n",
    "    print(df['Location'][index])"
   ]
  },
  {
   "cell_type": "markdown",
   "metadata": {
    "id": "27zsXl7TWWQb"
   },
   "source": [
    "These locations are in Mumbai"
   ]
  },
  {
   "cell_type": "markdown",
   "metadata": {
    "id": "I31CBOXnY75w"
   },
   "source": [
    "### Replacing unknown values with cities"
   ]
  },
  {
   "cell_type": "code",
   "execution_count": null,
   "metadata": {
    "colab": {
     "base_uri": "https://localhost:8080/"
    },
    "executionInfo": {
     "elapsed": 39,
     "status": "ok",
     "timestamp": 1626417992209,
     "user": {
      "displayName": "VIKRAM NAYYAR",
      "photoUrl": "",
      "userId": "07632075303478599690"
     },
     "user_tz": -330
    },
    "id": "jh-h-B0YDiye",
    "outputId": "4aa037af-da7f-4272-a002-9112f08facd5"
   },
   "outputs": [
    {
     "data": {
      "text/plain": [
       "Bangalore     1019\n",
       "Delhi          735\n",
       "Mumbai         727\n",
       "Kolkata        712\n",
       "Hyderabad      589\n",
       "Ahmedabad      415\n",
       "Chennai        388\n",
       "Pune           351\n",
       "Jaipur         268\n",
       "Chandigarh     264\n",
       "Indore         204\n",
       "Gurgaon        184\n",
       "Noida          146\n",
       "Vadodara        91\n",
       "Lucknow         80\n",
       "Agra            75\n",
       "Nagpur          66\n",
       "Surat           64\n",
       "Ludhiana        62\n",
       "Goa             60\n",
       "Ghaziabad       50\n",
       "Udaipur         43\n",
       "Kochi            2\n",
       "Name: City, dtype: int64"
      ]
     },
     "execution_count": 104,
     "metadata": {
      "tags": []
     },
     "output_type": "execute_result"
    }
   ],
   "source": [
    "df['City'] = df['City'].replace({'Secunderabad': 'Hyderabad', 'Bandra':'Mumbai', 'Thane':\"Mumbai\", 'Powai': 'Mumbai', 'Dombivali':'Mumbai', 'Western':'Mumbai', 'West':'Mumbai', 'Suburbs':'Mumbai', 'East':'Mumbai', 'South':'Mumbai', 'Faridabad': 'Noida', 'Zirakpur':'Chandigarh', 'Mohali':'Chandigarh', 'Panchkula':'Chandigarh', 'Howrah':'Kolkata', 'North':'Kolkata','Mysore':'Bangalore', 'Highway':'Bangalore'})\n",
    "df['City'].value_counts()"
   ]
  },
  {
   "cell_type": "code",
   "execution_count": null,
   "metadata": {
    "colab": {
     "base_uri": "https://localhost:8080/"
    },
    "executionInfo": {
     "elapsed": 34,
     "status": "ok",
     "timestamp": 1626417992210,
     "user": {
      "displayName": "VIKRAM NAYYAR",
      "photoUrl": "",
      "userId": "07632075303478599690"
     },
     "user_tz": -330
    },
    "id": "ZL6IPQoqZj5L",
    "outputId": "f9c2f9b4-9224-452d-8a46-85c4eea10209"
   },
   "outputs": [
    {
     "data": {
      "text/html": [
       "<div>\n",
       "<style scoped>\n",
       "    .dataframe tbody tr th:only-of-type {\n",
       "        vertical-align: middle;\n",
       "    }\n",
       "\n",
       "    .dataframe tbody tr th {\n",
       "        vertical-align: top;\n",
       "    }\n",
       "\n",
       "    .dataframe thead th {\n",
       "        text-align: right;\n",
       "    }\n",
       "</style>\n",
       "<table border=\"1\" class=\"dataframe\">\n",
       "  <thead>\n",
       "    <tr style=\"text-align: right;\">\n",
       "      <th></th>\n",
       "      <th>Name</th>\n",
       "      <th>Rating</th>\n",
       "      <th>Location</th>\n",
       "      <th>Cuisine</th>\n",
       "      <th>Votes</th>\n",
       "      <th>Cost</th>\n",
       "      <th>City</th>\n",
       "    </tr>\n",
       "  </thead>\n",
       "  <tbody>\n",
       "    <tr>\n",
       "      <th>0</th>\n",
       "      <td>Local</td>\n",
       "      <td>4.1</td>\n",
       "      <td>Scindia House,Connaught Place, Central Delhi</td>\n",
       "      <td>North Indian,  Finger Food,  Continental</td>\n",
       "      <td>2415 votes</td>\n",
       "      <td>₹ 2000 for two (approx.)</td>\n",
       "      <td>Delhi</td>\n",
       "    </tr>\n",
       "    <tr>\n",
       "      <th>1</th>\n",
       "      <td>The G.T. ROAD</td>\n",
       "      <td>4.3</td>\n",
       "      <td>M-Block,Connaught Place, Central Delhi</td>\n",
       "      <td>North Indian</td>\n",
       "      <td>2363 votes</td>\n",
       "      <td>₹ 1500 for two (approx.)</td>\n",
       "      <td>Delhi</td>\n",
       "    </tr>\n",
       "    <tr>\n",
       "      <th>2</th>\n",
       "      <td>Tamasha</td>\n",
       "      <td>4.2</td>\n",
       "      <td>Connaught Place, Central Delhi</td>\n",
       "      <td>Finger Food,  North Indian,  Italian,  Contine...</td>\n",
       "      <td>5016 votes</td>\n",
       "      <td>₹ 2000 for two (approx.)</td>\n",
       "      <td>Delhi</td>\n",
       "    </tr>\n",
       "    <tr>\n",
       "      <th>3</th>\n",
       "      <td>The Junkyard Cafe</td>\n",
       "      <td>4.2</td>\n",
       "      <td>Connaught Place, Central Delhi</td>\n",
       "      <td>North Indian,  Mediterranean,  Asian,  Italian...</td>\n",
       "      <td>2821 votes</td>\n",
       "      <td>₹ 1800 for two (approx.)</td>\n",
       "      <td>Delhi</td>\n",
       "    </tr>\n",
       "    <tr>\n",
       "      <th>4</th>\n",
       "      <td>Chili's American Grill and Bar</td>\n",
       "      <td>4.4</td>\n",
       "      <td>M-Block,Connaught Place, Central Delhi</td>\n",
       "      <td>Mexican,  American,  Italian</td>\n",
       "      <td>1094 votes</td>\n",
       "      <td>₹ 2000 for two (approx.)</td>\n",
       "      <td>Delhi</td>\n",
       "    </tr>\n",
       "  </tbody>\n",
       "</table>\n",
       "</div>"
      ],
      "text/plain": [
       "                             Name Rating  ...                      Cost   City\n",
       "0                           Local    4.1  ...  ₹ 2000 for two (approx.)  Delhi\n",
       "1                   The G.T. ROAD    4.3  ...  ₹ 1500 for two (approx.)  Delhi\n",
       "2                         Tamasha    4.2  ...  ₹ 2000 for two (approx.)  Delhi\n",
       "3               The Junkyard Cafe    4.2  ...  ₹ 1800 for two (approx.)  Delhi\n",
       "4  Chili's American Grill and Bar    4.4  ...  ₹ 2000 for two (approx.)  Delhi\n",
       "\n",
       "[5 rows x 7 columns]"
      ]
     },
     "execution_count": 105,
     "metadata": {
      "tags": []
     },
     "output_type": "execute_result"
    }
   ],
   "source": [
    "df.head()"
   ]
  },
  {
   "cell_type": "code",
   "execution_count": null,
   "metadata": {
    "id": "RoruAVjZZ0i7"
   },
   "outputs": [],
   "source": []
  },
  {
   "cell_type": "markdown",
   "metadata": {
    "id": "wsIgTCNqbvQR"
   },
   "source": [
    "## Adding Locality Column using Location Column"
   ]
  },
  {
   "cell_type": "code",
   "execution_count": null,
   "metadata": {
    "colab": {
     "base_uri": "https://localhost:8080/"
    },
    "executionInfo": {
     "elapsed": 29,
     "status": "ok",
     "timestamp": 1626417992211,
     "user": {
      "displayName": "VIKRAM NAYYAR",
      "photoUrl": "",
      "userId": "07632075303478599690"
     },
     "user_tz": -330
    },
    "id": "2SEzlagFb6Zo",
    "outputId": "beb7acd6-17f5-48e4-ba19-9088e4ed3c4f"
   },
   "outputs": [
    {
     "data": {
      "text/html": [
       "<div>\n",
       "<style scoped>\n",
       "    .dataframe tbody tr th:only-of-type {\n",
       "        vertical-align: middle;\n",
       "    }\n",
       "\n",
       "    .dataframe tbody tr th {\n",
       "        vertical-align: top;\n",
       "    }\n",
       "\n",
       "    .dataframe thead th {\n",
       "        text-align: right;\n",
       "    }\n",
       "</style>\n",
       "<table border=\"1\" class=\"dataframe\">\n",
       "  <thead>\n",
       "    <tr style=\"text-align: right;\">\n",
       "      <th></th>\n",
       "      <th>0</th>\n",
       "      <th>1</th>\n",
       "    </tr>\n",
       "  </thead>\n",
       "  <tbody>\n",
       "    <tr>\n",
       "      <th>0</th>\n",
       "      <td>Scindia House,Connaught Place</td>\n",
       "      <td>Central Delhi</td>\n",
       "    </tr>\n",
       "    <tr>\n",
       "      <th>1</th>\n",
       "      <td>M-Block,Connaught Place</td>\n",
       "      <td>Central Delhi</td>\n",
       "    </tr>\n",
       "    <tr>\n",
       "      <th>2</th>\n",
       "      <td>Connaught Place</td>\n",
       "      <td>Central Delhi</td>\n",
       "    </tr>\n",
       "    <tr>\n",
       "      <th>3</th>\n",
       "      <td>Connaught Place</td>\n",
       "      <td>Central Delhi</td>\n",
       "    </tr>\n",
       "    <tr>\n",
       "      <th>4</th>\n",
       "      <td>M-Block,Connaught Place</td>\n",
       "      <td>Central Delhi</td>\n",
       "    </tr>\n",
       "    <tr>\n",
       "      <th>...</th>\n",
       "      <td>...</td>\n",
       "      <td>...</td>\n",
       "    </tr>\n",
       "    <tr>\n",
       "      <th>6590</th>\n",
       "      <td>Wave Mall,BRS Nagar</td>\n",
       "      <td>West Ludhiana</td>\n",
       "    </tr>\n",
       "    <tr>\n",
       "      <th>6591</th>\n",
       "      <td>Radisson Blu,Rajguru Nagar</td>\n",
       "      <td>West Ludhiana</td>\n",
       "    </tr>\n",
       "    <tr>\n",
       "      <th>6592</th>\n",
       "      <td>BRS Nagar</td>\n",
       "      <td>West Ludhiana</td>\n",
       "    </tr>\n",
       "    <tr>\n",
       "      <th>6593</th>\n",
       "      <td>Nirvana Hotel Banquets Club,PAU</td>\n",
       "      <td>Central Ludhiana</td>\n",
       "    </tr>\n",
       "    <tr>\n",
       "      <th>6594</th>\n",
       "      <td>Aggar Nagar</td>\n",
       "      <td>West Ludhiana</td>\n",
       "    </tr>\n",
       "  </tbody>\n",
       "</table>\n",
       "<p>6595 rows × 2 columns</p>\n",
       "</div>"
      ],
      "text/plain": [
       "                                    0                  1\n",
       "0       Scindia House,Connaught Place      Central Delhi\n",
       "1             M-Block,Connaught Place      Central Delhi\n",
       "2                     Connaught Place      Central Delhi\n",
       "3                     Connaught Place      Central Delhi\n",
       "4             M-Block,Connaught Place      Central Delhi\n",
       "...                               ...                ...\n",
       "6590              Wave Mall,BRS Nagar      West Ludhiana\n",
       "6591       Radisson Blu,Rajguru Nagar      West Ludhiana\n",
       "6592                        BRS Nagar      West Ludhiana\n",
       "6593  Nirvana Hotel Banquets Club,PAU   Central Ludhiana\n",
       "6594                      Aggar Nagar      West Ludhiana\n",
       "\n",
       "[6595 rows x 2 columns]"
      ]
     },
     "execution_count": 106,
     "metadata": {
      "tags": []
     },
     "output_type": "execute_result"
    }
   ],
   "source": [
    "locality = df['Location'].str.rsplit(',', n=1, expand = True)\n",
    "locality"
   ]
  },
  {
   "cell_type": "code",
   "execution_count": null,
   "metadata": {
    "colab": {
     "base_uri": "https://localhost:8080/"
    },
    "executionInfo": {
     "elapsed": 25,
     "status": "ok",
     "timestamp": 1626417992211,
     "user": {
      "displayName": "VIKRAM NAYYAR",
      "photoUrl": "",
      "userId": "07632075303478599690"
     },
     "user_tz": -330
    },
    "id": "7OILuYLBcLvR",
    "outputId": "fa5fc909-b30f-45b2-f89e-ba8004184963"
   },
   "outputs": [
    {
     "data": {
      "text/html": [
       "<div>\n",
       "<style scoped>\n",
       "    .dataframe tbody tr th:only-of-type {\n",
       "        vertical-align: middle;\n",
       "    }\n",
       "\n",
       "    .dataframe tbody tr th {\n",
       "        vertical-align: top;\n",
       "    }\n",
       "\n",
       "    .dataframe thead th {\n",
       "        text-align: right;\n",
       "    }\n",
       "</style>\n",
       "<table border=\"1\" class=\"dataframe\">\n",
       "  <thead>\n",
       "    <tr style=\"text-align: right;\">\n",
       "      <th></th>\n",
       "      <th>Name</th>\n",
       "      <th>Rating</th>\n",
       "      <th>Location</th>\n",
       "      <th>Cuisine</th>\n",
       "      <th>Votes</th>\n",
       "      <th>Cost</th>\n",
       "      <th>City</th>\n",
       "      <th>Locality</th>\n",
       "    </tr>\n",
       "  </thead>\n",
       "  <tbody>\n",
       "    <tr>\n",
       "      <th>0</th>\n",
       "      <td>Local</td>\n",
       "      <td>4.1</td>\n",
       "      <td>Scindia House,Connaught Place, Central Delhi</td>\n",
       "      <td>North Indian,  Finger Food,  Continental</td>\n",
       "      <td>2415 votes</td>\n",
       "      <td>₹ 2000 for two (approx.)</td>\n",
       "      <td>Delhi</td>\n",
       "      <td>Central Delhi</td>\n",
       "    </tr>\n",
       "    <tr>\n",
       "      <th>1</th>\n",
       "      <td>The G.T. ROAD</td>\n",
       "      <td>4.3</td>\n",
       "      <td>M-Block,Connaught Place, Central Delhi</td>\n",
       "      <td>North Indian</td>\n",
       "      <td>2363 votes</td>\n",
       "      <td>₹ 1500 for two (approx.)</td>\n",
       "      <td>Delhi</td>\n",
       "      <td>Central Delhi</td>\n",
       "    </tr>\n",
       "    <tr>\n",
       "      <th>2</th>\n",
       "      <td>Tamasha</td>\n",
       "      <td>4.2</td>\n",
       "      <td>Connaught Place, Central Delhi</td>\n",
       "      <td>Finger Food,  North Indian,  Italian,  Contine...</td>\n",
       "      <td>5016 votes</td>\n",
       "      <td>₹ 2000 for two (approx.)</td>\n",
       "      <td>Delhi</td>\n",
       "      <td>Central Delhi</td>\n",
       "    </tr>\n",
       "    <tr>\n",
       "      <th>3</th>\n",
       "      <td>The Junkyard Cafe</td>\n",
       "      <td>4.2</td>\n",
       "      <td>Connaught Place, Central Delhi</td>\n",
       "      <td>North Indian,  Mediterranean,  Asian,  Italian...</td>\n",
       "      <td>2821 votes</td>\n",
       "      <td>₹ 1800 for two (approx.)</td>\n",
       "      <td>Delhi</td>\n",
       "      <td>Central Delhi</td>\n",
       "    </tr>\n",
       "    <tr>\n",
       "      <th>4</th>\n",
       "      <td>Chili's American Grill and Bar</td>\n",
       "      <td>4.4</td>\n",
       "      <td>M-Block,Connaught Place, Central Delhi</td>\n",
       "      <td>Mexican,  American,  Italian</td>\n",
       "      <td>1094 votes</td>\n",
       "      <td>₹ 2000 for two (approx.)</td>\n",
       "      <td>Delhi</td>\n",
       "      <td>Central Delhi</td>\n",
       "    </tr>\n",
       "  </tbody>\n",
       "</table>\n",
       "</div>"
      ],
      "text/plain": [
       "                             Name Rating  ...   City        Locality\n",
       "0                           Local    4.1  ...  Delhi   Central Delhi\n",
       "1                   The G.T. ROAD    4.3  ...  Delhi   Central Delhi\n",
       "2                         Tamasha    4.2  ...  Delhi   Central Delhi\n",
       "3               The Junkyard Cafe    4.2  ...  Delhi   Central Delhi\n",
       "4  Chili's American Grill and Bar    4.4  ...  Delhi   Central Delhi\n",
       "\n",
       "[5 rows x 8 columns]"
      ]
     },
     "execution_count": 107,
     "metadata": {
      "tags": []
     },
     "output_type": "execute_result"
    }
   ],
   "source": [
    "df['Locality'] = locality[1]\n",
    "df.head()"
   ]
  },
  {
   "cell_type": "code",
   "execution_count": null,
   "metadata": {
    "colab": {
     "base_uri": "https://localhost:8080/"
    },
    "executionInfo": {
     "elapsed": 23,
     "status": "ok",
     "timestamp": 1626417992212,
     "user": {
      "displayName": "VIKRAM NAYYAR",
      "photoUrl": "",
      "userId": "07632075303478599690"
     },
     "user_tz": -330
    },
    "id": "XyllknS2eiT-",
    "outputId": "f6fd9e35-3a50-4b84-d8ae-d1cc1e0d870f"
   },
   "outputs": [
    {
     "name": "stdout",
     "output_type": "stream",
     "text": [
      " South Bangalore    364\n",
      " South Delhi        339\n",
      " South Kolkata      310\n",
      " West Ahmedabad     237\n",
      " East Bangalore     235\n",
      "                   ... \n",
      " North Kochi          1\n",
      " North Nagpur         1\n",
      " East Kochi           1\n",
      " West Indore          1\n",
      " East Udaipur         1\n",
      "Name: Locality, Length: 108, dtype: int64\n"
     ]
    }
   ],
   "source": [
    "x = df['Locality'].value_counts()\n",
    "print(x)"
   ]
  },
  {
   "cell_type": "code",
   "execution_count": null,
   "metadata": {
    "colab": {
     "base_uri": "https://localhost:8080/"
    },
    "executionInfo": {
     "elapsed": 19,
     "status": "ok",
     "timestamp": 1626417992212,
     "user": {
      "displayName": "VIKRAM NAYYAR",
      "photoUrl": "",
      "userId": "07632075303478599690"
     },
     "user_tz": -330
    },
    "id": "mYJkRolfGmpL",
    "outputId": "86dfffb8-06f1-490d-ed80-717d4ddb17fe"
   },
   "outputs": [
    {
     "data": {
      "text/plain": [
       " South Bangalore           364\n",
       " South Delhi               339\n",
       " South Kolkata             310\n",
       " West Ahmedabad            237\n",
       " East Bangalore            235\n",
       " West Hyderabad            221\n",
       " Gurgaon                   184\n",
       " West Delhi                174\n",
       " West Pune                 171\n",
       " North Bangalore           170\n",
       " East Kolkata              141\n",
       " East Pune                 141\n",
       " North Western             132\n",
       " East Indore               130\n",
       " Central Bangalore         128\n",
       " South Mumbai              123\n",
       " West Bangalore            119\n",
       " Central Chennai           111\n",
       " Central Delhi             111\n",
       " 24 Parganas North         106\n",
       " Central Kolkata           101\n",
       " Noida                      96\n",
       " South Jaipur               96\n",
       " Secunderabad               95\n",
       " Navi Mumbai                93\n",
       " North Ahmedabad            91\n",
       " Central East Hyderabad     87\n",
       " South West Chennai         84\n",
       " Central West Hyderabad     83\n",
       " North Chennai              82\n",
       "Name: Locality, dtype: int64"
      ]
     },
     "execution_count": 109,
     "metadata": {
      "tags": []
     },
     "output_type": "execute_result"
    }
   ],
   "source": [
    "# Top 30 localities\n",
    "x[:30]  "
   ]
  },
  {
   "cell_type": "code",
   "execution_count": null,
   "metadata": {
    "colab": {
     "base_uri": "https://localhost:8080/"
    },
    "executionInfo": {
     "elapsed": 1067,
     "status": "ok",
     "timestamp": 1626417993262,
     "user": {
      "displayName": "VIKRAM NAYYAR",
      "photoUrl": "",
      "userId": "07632075303478599690"
     },
     "user_tz": -330
    },
    "id": "gv24_5DyfMPy",
    "outputId": "1da504c0-4802-4cb9-e7b4-555cb55449b4"
   },
   "outputs": [
    {
     "data": {
      "image/png": "[encoded data removed]",
      "text/plain": [
       "<Figure size 720x504 with 1 Axes>"
      ]
     },
     "metadata": {
      "needs_background": "light",
      "tags": []
     },
     "output_type": "display_data"
    }
   ],
   "source": [
    "# Restaurant distribution in different localities \n",
    "import matplotlib.pyplot as plt\n",
    "%matplotlib inline\n",
    "df['Locality'].hist(bins=50, figsize=(10,7))\n",
    "# xlabel\n",
    "plt.show()"
   ]
  },
  {
   "cell_type": "markdown",
   "metadata": {
    "id": "k4t6rcK-G_9L"
   },
   "source": [
    "    ## Cleaning Votes Column"
   ]
  },
  {
   "cell_type": "code",
   "execution_count": null,
   "metadata": {
    "colab": {
     "base_uri": "https://localhost:8080/"
    },
    "executionInfo": {
     "elapsed": 35,
     "status": "ok",
     "timestamp": 1626417993263,
     "user": {
      "displayName": "VIKRAM NAYYAR",
      "photoUrl": "",
      "userId": "07632075303478599690"
     },
     "user_tz": -330
    },
    "id": "LeLYzIBmHBAe",
    "outputId": "bce248c9-9f70-4d8d-be2d-3fd7fbe0956e"
   },
   "outputs": [
    {
     "data": {
      "text/html": [
       "<div>\n",
       "<style scoped>\n",
       "    .dataframe tbody tr th:only-of-type {\n",
       "        vertical-align: middle;\n",
       "    }\n",
       "\n",
       "    .dataframe tbody tr th {\n",
       "        vertical-align: top;\n",
       "    }\n",
       "\n",
       "    .dataframe thead th {\n",
       "        text-align: right;\n",
       "    }\n",
       "</style>\n",
       "<table border=\"1\" class=\"dataframe\">\n",
       "  <thead>\n",
       "    <tr style=\"text-align: right;\">\n",
       "      <th></th>\n",
       "      <th>Name</th>\n",
       "      <th>Rating</th>\n",
       "      <th>Location</th>\n",
       "      <th>Cuisine</th>\n",
       "      <th>Votes</th>\n",
       "      <th>Cost</th>\n",
       "      <th>City</th>\n",
       "      <th>Locality</th>\n",
       "    </tr>\n",
       "  </thead>\n",
       "  <tbody>\n",
       "    <tr>\n",
       "      <th>0</th>\n",
       "      <td>Local</td>\n",
       "      <td>4.1</td>\n",
       "      <td>Scindia House,Connaught Place, Central Delhi</td>\n",
       "      <td>North Indian,  Finger Food,  Continental</td>\n",
       "      <td>2415</td>\n",
       "      <td>₹ 2000 for two (approx.)</td>\n",
       "      <td>Delhi</td>\n",
       "      <td>Central Delhi</td>\n",
       "    </tr>\n",
       "    <tr>\n",
       "      <th>1</th>\n",
       "      <td>The G.T. ROAD</td>\n",
       "      <td>4.3</td>\n",
       "      <td>M-Block,Connaught Place, Central Delhi</td>\n",
       "      <td>North Indian</td>\n",
       "      <td>2363</td>\n",
       "      <td>₹ 1500 for two (approx.)</td>\n",
       "      <td>Delhi</td>\n",
       "      <td>Central Delhi</td>\n",
       "    </tr>\n",
       "    <tr>\n",
       "      <th>2</th>\n",
       "      <td>Tamasha</td>\n",
       "      <td>4.2</td>\n",
       "      <td>Connaught Place, Central Delhi</td>\n",
       "      <td>Finger Food,  North Indian,  Italian,  Contine...</td>\n",
       "      <td>5016</td>\n",
       "      <td>₹ 2000 for two (approx.)</td>\n",
       "      <td>Delhi</td>\n",
       "      <td>Central Delhi</td>\n",
       "    </tr>\n",
       "    <tr>\n",
       "      <th>3</th>\n",
       "      <td>The Junkyard Cafe</td>\n",
       "      <td>4.2</td>\n",
       "      <td>Connaught Place, Central Delhi</td>\n",
       "      <td>North Indian,  Mediterranean,  Asian,  Italian...</td>\n",
       "      <td>2821</td>\n",
       "      <td>₹ 1800 for two (approx.)</td>\n",
       "      <td>Delhi</td>\n",
       "      <td>Central Delhi</td>\n",
       "    </tr>\n",
       "    <tr>\n",
       "      <th>4</th>\n",
       "      <td>Chili's American Grill and Bar</td>\n",
       "      <td>4.4</td>\n",
       "      <td>M-Block,Connaught Place, Central Delhi</td>\n",
       "      <td>Mexican,  American,  Italian</td>\n",
       "      <td>1094</td>\n",
       "      <td>₹ 2000 for two (approx.)</td>\n",
       "      <td>Delhi</td>\n",
       "      <td>Central Delhi</td>\n",
       "    </tr>\n",
       "  </tbody>\n",
       "</table>\n",
       "</div>"
      ],
      "text/plain": [
       "                             Name Rating  ...   City        Locality\n",
       "0                           Local    4.1  ...  Delhi   Central Delhi\n",
       "1                   The G.T. ROAD    4.3  ...  Delhi   Central Delhi\n",
       "2                         Tamasha    4.2  ...  Delhi   Central Delhi\n",
       "3               The Junkyard Cafe    4.2  ...  Delhi   Central Delhi\n",
       "4  Chili's American Grill and Bar    4.4  ...  Delhi   Central Delhi\n",
       "\n",
       "[5 rows x 8 columns]"
      ]
     },
     "execution_count": 111,
     "metadata": {
      "tags": []
     },
     "output_type": "execute_result"
    }
   ],
   "source": [
    "votes = df['Votes'].str.split(' ', n=1, expand = True)\n",
    "df['Votes'] = votes[0]\n",
    "df.head()"
   ]
  },
  {
   "cell_type": "markdown",
   "metadata": {
    "id": "UOmEe9XXH-Ak"
   },
   "source": [
    "## Cleaning Cost Column"
   ]
  },
  {
   "cell_type": "code",
   "execution_count": null,
   "metadata": {
    "colab": {
     "base_uri": "https://localhost:8080/",
     "height": 203
    },
    "executionInfo": {
     "elapsed": 28,
     "status": "ok",
     "timestamp": 1626417993263,
     "user": {
      "displayName": "VIKRAM NAYYAR",
      "photoUrl": "",
      "userId": "07632075303478599690"
     },
     "user_tz": -330
    },
    "id": "fb5EPM25HyOr",
    "outputId": "2d834ac0-e708-450a-c8a2-575ee38b4edf"
   },
   "outputs": [
    {
     "data": {
      "text/html": [
       "<div>\n",
       "<style scoped>\n",
       "    .dataframe tbody tr th:only-of-type {\n",
       "        vertical-align: middle;\n",
       "    }\n",
       "\n",
       "    .dataframe tbody tr th {\n",
       "        vertical-align: top;\n",
       "    }\n",
       "\n",
       "    .dataframe thead th {\n",
       "        text-align: right;\n",
       "    }\n",
       "</style>\n",
       "<table border=\"1\" class=\"dataframe\">\n",
       "  <thead>\n",
       "    <tr style=\"text-align: right;\">\n",
       "      <th></th>\n",
       "      <th>Name</th>\n",
       "      <th>Rating</th>\n",
       "      <th>Location</th>\n",
       "      <th>Cuisine</th>\n",
       "      <th>Votes</th>\n",
       "      <th>Cost</th>\n",
       "      <th>City</th>\n",
       "      <th>Locality</th>\n",
       "    </tr>\n",
       "  </thead>\n",
       "  <tbody>\n",
       "    <tr>\n",
       "      <th>0</th>\n",
       "      <td>Local</td>\n",
       "      <td>4.1</td>\n",
       "      <td>Scindia House,Connaught Place, Central Delhi</td>\n",
       "      <td>North Indian,  Finger Food,  Continental</td>\n",
       "      <td>2415</td>\n",
       "      <td>2000</td>\n",
       "      <td>Delhi</td>\n",
       "      <td>Central Delhi</td>\n",
       "    </tr>\n",
       "    <tr>\n",
       "      <th>1</th>\n",
       "      <td>The G.T. ROAD</td>\n",
       "      <td>4.3</td>\n",
       "      <td>M-Block,Connaught Place, Central Delhi</td>\n",
       "      <td>North Indian</td>\n",
       "      <td>2363</td>\n",
       "      <td>1500</td>\n",
       "      <td>Delhi</td>\n",
       "      <td>Central Delhi</td>\n",
       "    </tr>\n",
       "    <tr>\n",
       "      <th>2</th>\n",
       "      <td>Tamasha</td>\n",
       "      <td>4.2</td>\n",
       "      <td>Connaught Place, Central Delhi</td>\n",
       "      <td>Finger Food,  North Indian,  Italian,  Contine...</td>\n",
       "      <td>5016</td>\n",
       "      <td>2000</td>\n",
       "      <td>Delhi</td>\n",
       "      <td>Central Delhi</td>\n",
       "    </tr>\n",
       "    <tr>\n",
       "      <th>3</th>\n",
       "      <td>The Junkyard Cafe</td>\n",
       "      <td>4.2</td>\n",
       "      <td>Connaught Place, Central Delhi</td>\n",
       "      <td>North Indian,  Mediterranean,  Asian,  Italian...</td>\n",
       "      <td>2821</td>\n",
       "      <td>1800</td>\n",
       "      <td>Delhi</td>\n",
       "      <td>Central Delhi</td>\n",
       "    </tr>\n",
       "    <tr>\n",
       "      <th>4</th>\n",
       "      <td>Chili's American Grill and Bar</td>\n",
       "      <td>4.4</td>\n",
       "      <td>M-Block,Connaught Place, Central Delhi</td>\n",
       "      <td>Mexican,  American,  Italian</td>\n",
       "      <td>1094</td>\n",
       "      <td>2000</td>\n",
       "      <td>Delhi</td>\n",
       "      <td>Central Delhi</td>\n",
       "    </tr>\n",
       "  </tbody>\n",
       "</table>\n",
       "</div>"
      ],
      "text/plain": [
       "                             Name Rating  ...   City        Locality\n",
       "0                           Local    4.1  ...  Delhi   Central Delhi\n",
       "1                   The G.T. ROAD    4.3  ...  Delhi   Central Delhi\n",
       "2                         Tamasha    4.2  ...  Delhi   Central Delhi\n",
       "3               The Junkyard Cafe    4.2  ...  Delhi   Central Delhi\n",
       "4  Chili's American Grill and Bar    4.4  ...  Delhi   Central Delhi\n",
       "\n",
       "[5 rows x 8 columns]"
      ]
     },
     "execution_count": 112,
     "metadata": {
      "tags": []
     },
     "output_type": "execute_result"
    }
   ],
   "source": [
    "cost = df['Cost'].str.split(' ', n=2, expand = True)\n",
    "df['Cost'] = cost[1]\n",
    "df.head()"
   ]
  },
  {
   "cell_type": "code",
   "execution_count": null,
   "metadata": {
    "colab": {
     "base_uri": "https://localhost:8080/"
    },
    "executionInfo": {
     "elapsed": 24,
     "status": "ok",
     "timestamp": 1626417993264,
     "user": {
      "displayName": "VIKRAM NAYYAR",
      "photoUrl": "",
      "userId": "07632075303478599690"
     },
     "user_tz": -330
    },
    "id": "wCcoDKhEJ6BO",
    "outputId": "b212fb5a-813f-4b8e-abd7-1a252486f827"
   },
   "outputs": [
    {
     "data": {
      "text/plain": [
       "(6595, 8)"
      ]
     },
     "execution_count": 113,
     "metadata": {
      "tags": []
     },
     "output_type": "execute_result"
    }
   ],
   "source": [
    "df.shape"
   ]
  },
  {
   "cell_type": "markdown",
   "metadata": {
    "id": "MKriy1w4OKKp"
   },
   "source": [
    "### Saving Dataframe as CSV"
   ]
  },
  {
   "cell_type": "code",
   "execution_count": null,
   "metadata": {
    "colab": {
     "base_uri": "https://localhost:8080/",
     "height": 17
    },
    "executionInfo": {
     "elapsed": 18,
     "status": "ok",
     "timestamp": 1626417993265,
     "user": {
      "displayName": "VIKRAM NAYYAR",
      "photoUrl": "",
      "userId": "07632075303478599690"
     },
     "user_tz": -330
    },
    "id": "8pfZN5eDOPXS",
    "outputId": "0c7024b7-f9ea-42fe-cac6-9daa84a118e1"
   },
   "outputs": [
    {
     "data": {
      "application/javascript": [
       "\n",
       "    async function download(id, filename, size) {\n",
       "      if (!google.colab.kernel.accessAllowed) {\n",
       "        return;\n",
       "      }\n",
       "      const div = document.createElement('div');\n",
       "      const label = document.createElement('label');\n",
       "      label.textContent = `Downloading \"${filename}\": `;\n",
       "      div.appendChild(label);\n",
       "      const progress = document.createElement('progress');\n",
       "      progress.max = size;\n",
       "      div.appendChild(progress);\n",
       "      document.body.appendChild(div);\n",
       "\n",
       "      const buffers = [];\n",
       "      let downloaded = 0;\n",
       "\n",
       "      const channel = await google.colab.kernel.comms.open(id);\n",
       "      // Send a message to notify the kernel that we're ready.\n",
       "      channel.send({})\n",
       "\n",
       "      for await (const message of channel.messages) {\n",
       "        // Send a message to notify the kernel that we're ready.\n",
       "        channel.send({})\n",
       "        if (message.buffers) {\n",
       "          for (const buffer of message.buffers) {\n",
       "            buffers.push(buffer);\n",
       "            downloaded += buffer.byteLength;\n",
       "            progress.value = downloaded;\n",
       "          }\n",
       "        }\n",
       "      }\n",
       "      const blob = new Blob(buffers, {type: 'application/binary'});\n",
       "      const a = document.createElement('a');\n",
       "      a.href = window.URL.createObjectURL(blob);\n",
       "      a.download = filename;\n",
       "      div.appendChild(a);\n",
       "      a.click();\n",
       "      div.remove();\n",
       "    }\n",
       "  "
      ],
      "text/plain": [
       "<IPython.core.display.Javascript object>"
      ]
     },
     "metadata": {
      "tags": []
     },
     "output_type": "display_data"
    },
    {
     "data": {
      "application/javascript": [
       "download(\"download_272dee00-4941-46bf-967c-3695743f2cb8\", \"restnt_details_final-2.csv\", 821205)"
      ],
      "text/plain": [
       "<IPython.core.display.Javascript object>"
      ]
     },
     "metadata": {
      "tags": []
     },
     "output_type": "display_data"
    }
   ],
   "source": [
    "# reodering columns\n",
    "df = df[['Name', 'Location', 'Locality', 'City',  'Cuisine', 'Rating', 'Votes', 'Cost']]\n",
    "\n",
    "from google.colab import files\n",
    "df.to_csv('restnt_details_final-2.csv')\n",
    "files.download('restnt_details_final-2.csv')"
   ]
  },
  {
   "cell_type": "code",
   "execution_count": null,
   "metadata": {
    "id": "xz6qblFgDCKe"
   },
   "outputs": [],
   "source": [
    "# #del\n",
    "# df = df[['Name', 'Location', 'Locality', 'City',  'Cuisine', 'Rating', 'Votes', 'Cost']]\n",
    "# df.head()"
   ]
  },
  {
   "cell_type": "code",
   "execution_count": null,
   "metadata": {
    "id": "eKdIhY9FO_bL"
   },
   "outputs": [],
   "source": [
    "### Performing Minor Corrections and Re-Downloading"
   ]
  },
  {
   "cell_type": "code",
   "execution_count": null,
   "metadata": {
    "id": "uN0o0KwRUHgM"
   },
   "outputs": [],
   "source": [
    "# # Importing dataset\n",
    "# from google.colab import drive\n",
    "# drive.mount(\"/content/gdrive\")"
   ]
  },
  {
   "cell_type": "code",
   "execution_count": null,
   "metadata": {
    "id": "Wpq0JzLzUHgV"
   },
   "outputs": [],
   "source": [
    "# import pandas as pd\n",
    "# df = pd.read_csv('/content/gdrive/My Drive/Colab Notebooks/Dineout/0001 - all_restnt_details_clean (copy).csv')"
   ]
  },
  {
   "cell_type": "code",
   "execution_count": null,
   "metadata": {
    "id": "sm7JqGMxUKek"
   },
   "outputs": [],
   "source": [
    "# df.head()"
   ]
  },
  {
   "cell_type": "code",
   "execution_count": null,
   "metadata": {
    "id": "MHDyJrO8WHpn"
   },
   "outputs": [],
   "source": [
    "# df[['Name', 'Location', 'City', 'Locality', 'Rating', 'Votes', 'Cost']]"
   ]
  },
  {
   "cell_type": "code",
   "execution_count": null,
   "metadata": {
    "id": "OdFt0QT4WlO1"
   },
   "outputs": [],
   "source": [
    "# df.shape"
   ]
  },
  {
   "cell_type": "code",
   "execution_count": null,
   "metadata": {
    "id": "uWavLBdnWtk3"
   },
   "outputs": [],
   "source": [
    "# df.to_csv('dineout_restaurants_final.csv')\n",
    "# files.download('dineout_restaurants_final.csv')"
   ]
  },
  {
   "cell_type": "code",
   "execution_count": null,
   "metadata": {
    "id": "4PuhSO3vXOvh"
   },
   "outputs": [],
   "source": []
  }
 ],
 "metadata": {
  "colab": {
   "authorship_tag": "ABX9TyOJJFe40exjlVjSLIbSQO5T",
   "collapsed_sections": [
    "PFaDu4FRXzXg",
    "5RNQ0tE3PjiP",
    "aID0eXhSP5qb",
    "KH99Hr0KSTOG",
    "ElKyesGDUXec",
    "_ecMp2yOT_Z8",
    "dMmXSGTwU_Q9",
    "_cQOahFwVrFX",
    "I31CBOXnY75w",
    "wsIgTCNqbvQR",
    "k4t6rcK-G_9L"
   ],
   "name": "EDA_Dineout #11.10 #2.05 #1.45hrs .ipynb",
   "provenance": []
  },
  "kernelspec": {
   "display_name": "Python 3 (ipykernel)",
   "language": "python",
   "name": "python3"
  },
  "language_info": {
   "codemirror_mode": {
    "name": "ipython",
    "version": 3
   },
   "file_extension": ".py",
   "mimetype": "text/x-python",
   "name": "python",
   "nbconvert_exporter": "python",
   "pygments_lexer": "ipython3",
   "version": "3.9.7"
  }
 },
 "nbformat": 4,
 "nbformat_minor": 1
}
